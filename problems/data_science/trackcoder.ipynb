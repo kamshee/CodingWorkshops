{
 "cells": [
  {
   "cell_type": "markdown",
   "metadata": {},
   "source": [
    "# Data Analysis and visualization for tracking developer productivity\n",
    "\n",
    "Chipy's mentorship program is an extra-ordinary jounery for becoming a better developer. As a mentee, you are expected to do a lot - you read new articles/books, write code, debug and troubleshoot, pair program with other mentees in coding workshop or your mentor. This is involves managing time efficiently and doing the effective things. But as the old adage goes, \"you can't manage what you can't measure\".\n",
    "\n",
    "This project is the third of the three part series of building tools for the mentees for tracking time. The end goal of such a tool will be to aggregate anonymous data and analyze how does a typical mentee spend on blogging (b), coding (c), debugging (d), pair program (p) with mentor or other mentees.\n",
    "\n",
    "In this project we will be using `pandas` to analyze the data gathered by using the command line tool we built in the first part of the series. We will also be using `altair`, a visualization library to do some exploratory analysis of the data.\n",
    "\n",
    "Short url for this page: http://bit.ly/data_trackcoder"
   ]
  },
  {
   "cell_type": "markdown",
   "metadata": {},
   "source": [
    "##  Is this project for you\n",
    "\n",
    "Before you progress further, let's check if we are ready to solve this. You should\n",
    "\n",
    "- Have a personal computer with working wifi and power cord\n",
    "- Have Python 3 installed on your computer. *Yes, **Python 3** only* 😎\n",
    "- Have some idea about lists, dictionaries and functions\n",
    "- Have created a virtual environment and installing packages with `pip`\n",
    "\n",
    "In addition, you should be familiar with [Part 1](https://github.com/chicagopython/CodingWorkshops/tree/master/problems/py101/trackcoder), and [Part 2](https://bit.ly/flask_trackcoder) of this three part exercise."
   ]
  },
  {
   "cell_type": "markdown",
   "metadata": {},
   "source": [
    "## Getting the project setup in your computer\n",
    "If you are familiar with git, run\n",
    "\n",
    "\n",
    "```\n",
    "git clone https://github.com/chicagopython/CodingWorkshops.git\n",
    "```\n",
    "\n",
    "If not, go to https://github.com/chicagopython/CodingWorkshops\n",
    "\n",
    "Click on the Download Zip and unzip the file that gets downloaded.\n",
    "\n",
    "From your command line (terminal in mac osx, or linux and command prompt in windows), change directory to the path where you have downloaded it.\n",
    "\n",
    "\n",
    "    On linux or OS X\n",
    "\n",
    "      > cd path/to/CodingWorkshops/problems/data_science/\n",
    "\n",
    "    On Windows\n",
    "\n",
    "      > cd path\\to\\CodingWorkshops\\problems\\data_science\n",
    "\n",
    "### Check if you have the latest notebook\n",
    "\n",
    "If you have downloaded the notebook before the event of the Project Night, you have downloaded the notebook with only materials to review for project night without the actual problems. The actual problems will be released 2 hours before the event. Please update your notebook in order to get the challenge questions.\n",
    "\n",
    "In that directory, run the following command\n",
    "\n",
    "    git pull\n",
    "\n",
    "\n",
    "### Installation of Required packages\n",
    "\n",
    "The following packages are needed for this project.\n",
    "\n",
    "```\n",
    "numpy==1.14.2\n",
    "pandas==0.22.0\n",
    "python-dateutil==2.7.2\n",
    "pytz==2018.4\n",
    "scikit-learn==0.19.1\n",
    "scipy==1.0.1\n",
    "six==1.11.0\n",
    "sklearn==0.20.0\n",
    "altair==2.2.2 \n",
    "```\n",
    "These packages are listed in the file `requirements.txt` in this directory.\n",
    "From a terminal (in mac ox or linux) or command prompt (windows), install them using the following command.\n",
    "\n",
    "```\n",
    "pip install -r requirements.txt\n",
    "```\n",
    "\n",
    "Once the installation completed, start Jupyter notebook by issuing the command.\n",
    "    \n",
    "    > jupyter notebook\n",
    "\n",
    "Running the following command here will open up a browser (http://localhost:8888)  and display all the notebooks under this directory.\n",
    "Double click to open the `trackcoder` notebook.\n",
    "\n",
    "Next execute the cell below by hitting `Shift + Enter`."
   ]
  },
  {
   "cell_type": "code",
   "execution_count": 1,
   "metadata": {
    "ExecuteTime": {
     "end_time": "2018-11-16T01:08:29.588901Z",
     "start_time": "2018-11-16T01:08:29.064800Z"
    }
   },
   "outputs": [],
   "source": [
    "import pandas"
   ]
  },
  {
   "cell_type": "markdown",
   "metadata": {},
   "source": [
    "If the above line executes without any error, then congratulations 🎉 - you have successfully installed everything, and ready to get started."
   ]
  },
  {
   "cell_type": "markdown",
   "metadata": {},
   "source": [
    "## Getting Started with Pandas"
   ]
  },
  {
   "cell_type": "markdown",
   "metadata": {},
   "source": [
    "### Loading pandas"
   ]
  },
  {
   "cell_type": "markdown",
   "metadata": {},
   "source": [
    "We will start off with an gentle introduction to `pandas` that is mostly taken from the [wonderful 10 minutes guide](https://pandas.pydata.org/pandas-docs/stable/10min.html). Lets start by importing the necessary packages."
   ]
  },
  {
   "cell_type": "code",
   "execution_count": 2,
   "metadata": {
    "ExecuteTime": {
     "end_time": "2018-11-16T01:08:32.741519Z",
     "start_time": "2018-11-16T01:08:32.739093Z"
    }
   },
   "outputs": [],
   "source": [
    "import pandas as pd\n",
    "import numpy as np"
   ]
  },
  {
   "cell_type": "markdown",
   "metadata": {},
   "source": [
    "### Pandas Series and Dataframe"
   ]
  },
  {
   "cell_type": "markdown",
   "metadata": {},
   "source": [
    "#### Series"
   ]
  },
  {
   "cell_type": "markdown",
   "metadata": {},
   "source": [
    "A pandas `Series` is a one-dimensional labeled array capable of holding any data type. The axis labels are collectively referred to as the index. Lets create `series` from the different task types that we have defined in [Part 1](https://github.com/chicagopython/CodingWorkshops/tree/master/problems/py101/trackcoder#181-interactive-mode)."
   ]
  },
  {
   "cell_type": "code",
   "execution_count": 3,
   "metadata": {
    "ExecuteTime": {
     "end_time": "2018-11-16T01:09:18.200197Z",
     "start_time": "2018-11-16T01:09:18.190673Z"
    }
   },
   "outputs": [
    {
     "name": "stdout",
     "output_type": "stream",
     "text": [
      "data: ['blogging' 'coding' 'debugging' 'mentor' 'pair_programming' 'research']\n",
      "index: Index(['b', 'c', 'd', 'm', 'p', 'r'], dtype='object')\n"
     ]
    }
   ],
   "source": [
    "description = pd.Series(data=['blogging','coding','debugging','mentor','pair_programming', 'research'], \n",
    "                        index=['b', 'c', 'd','m','p','r'])\n",
    "print(f\"data: {description.values}\\nindex: {description.index}\")"
   ]
  },
  {
   "cell_type": "markdown",
   "metadata": {},
   "source": [
    "#### DataFrame"
   ]
  },
  {
   "cell_type": "markdown",
   "metadata": {},
   "source": [
    "A pandas `DataFrame` is a 2-dimensional labeled data structure where the columns can be of different data types. \n",
    "\n",
    "Lets create another series with number of minutes and same indexes as that of `description`."
   ]
  },
  {
   "cell_type": "code",
   "execution_count": 4,
   "metadata": {
    "ExecuteTime": {
     "end_time": "2018-11-16T01:09:33.670802Z",
     "start_time": "2018-11-16T01:09:33.666237Z"
    }
   },
   "outputs": [],
   "source": [
    "mins = pd.Series([100,100,200,50,50,300], ['b', 'c', 'd', 'm', 'p', 'r'])"
   ]
  },
  {
   "cell_type": "markdown",
   "metadata": {},
   "source": [
    "Now lets create a dataframe using `description` and `mins`."
   ]
  },
  {
   "cell_type": "code",
   "execution_count": 5,
   "metadata": {
    "ExecuteTime": {
     "end_time": "2018-11-16T01:09:37.312740Z",
     "start_time": "2018-11-16T01:09:37.284087Z"
    }
   },
   "outputs": [
    {
     "data": {
      "text/html": [
       "<div>\n",
       "<style scoped>\n",
       "    .dataframe tbody tr th:only-of-type {\n",
       "        vertical-align: middle;\n",
       "    }\n",
       "\n",
       "    .dataframe tbody tr th {\n",
       "        vertical-align: top;\n",
       "    }\n",
       "\n",
       "    .dataframe thead th {\n",
       "        text-align: right;\n",
       "    }\n",
       "</style>\n",
       "<table border=\"1\" class=\"dataframe\">\n",
       "  <thead>\n",
       "    <tr style=\"text-align: right;\">\n",
       "      <th></th>\n",
       "      <th>description</th>\n",
       "      <th>mins</th>\n",
       "    </tr>\n",
       "  </thead>\n",
       "  <tbody>\n",
       "    <tr>\n",
       "      <th>b</th>\n",
       "      <td>blogging</td>\n",
       "      <td>100</td>\n",
       "    </tr>\n",
       "    <tr>\n",
       "      <th>c</th>\n",
       "      <td>coding</td>\n",
       "      <td>100</td>\n",
       "    </tr>\n",
       "    <tr>\n",
       "      <th>d</th>\n",
       "      <td>debugging</td>\n",
       "      <td>200</td>\n",
       "    </tr>\n",
       "    <tr>\n",
       "      <th>m</th>\n",
       "      <td>mentor</td>\n",
       "      <td>50</td>\n",
       "    </tr>\n",
       "    <tr>\n",
       "      <th>p</th>\n",
       "      <td>pair_programming</td>\n",
       "      <td>50</td>\n",
       "    </tr>\n",
       "    <tr>\n",
       "      <th>r</th>\n",
       "      <td>research</td>\n",
       "      <td>300</td>\n",
       "    </tr>\n",
       "  </tbody>\n",
       "</table>\n",
       "</div>"
      ],
      "text/plain": [
       "        description  mins\n",
       "b          blogging   100\n",
       "c            coding   100\n",
       "d         debugging   200\n",
       "m            mentor    50\n",
       "p  pair_programming    50\n",
       "r          research   300"
      ]
     },
     "execution_count": 5,
     "metadata": {},
     "output_type": "execute_result"
    }
   ],
   "source": [
    "d = {'description': description, 'mins': mins}\n",
    "\n",
    "frame = pd.DataFrame(d)\n",
    "frame"
   ]
  },
  {
   "cell_type": "markdown",
   "metadata": {},
   "source": [
    "### Loading the data"
   ]
  },
  {
   "cell_type": "markdown",
   "metadata": {},
   "source": [
    "Next we will load the data present in the sqlite database in the folder `CodingWorkshops/problems/py101/trackcoder/`. If you choose to use a different dataset, all you need to do is change the value of `db` to the path of your file."
   ]
  },
  {
   "cell_type": "code",
   "execution_count": 6,
   "metadata": {
    "ExecuteTime": {
     "end_time": "2018-11-16T01:12:01.034215Z",
     "start_time": "2018-11-16T01:12:01.032257Z"
    }
   },
   "outputs": [],
   "source": [
    "db=\"../py101/trackcoder/to_do_list.db\""
   ]
  },
  {
   "cell_type": "code",
   "execution_count": 7,
   "metadata": {
    "ExecuteTime": {
     "end_time": "2018-11-16T01:12:02.989134Z",
     "start_time": "2018-11-16T01:12:02.883118Z"
    }
   },
   "outputs": [],
   "source": [
    "import sqlite3\n",
    "conn = sqlite3.connect(db)\n",
    "df = pd.read_sql_query(\"select * from todo\", conn)"
   ]
  },
  {
   "cell_type": "markdown",
   "metadata": {},
   "source": [
    "### Viewing the data"
   ]
  },
  {
   "cell_type": "code",
   "execution_count": 8,
   "metadata": {
    "ExecuteTime": {
     "end_time": "2018-11-16T01:12:05.932473Z",
     "start_time": "2018-11-16T01:12:05.921742Z"
    }
   },
   "outputs": [
    {
     "data": {
      "text/html": [
       "<div>\n",
       "<style scoped>\n",
       "    .dataframe tbody tr th:only-of-type {\n",
       "        vertical-align: middle;\n",
       "    }\n",
       "\n",
       "    .dataframe tbody tr th {\n",
       "        vertical-align: top;\n",
       "    }\n",
       "\n",
       "    .dataframe thead th {\n",
       "        text-align: right;\n",
       "    }\n",
       "</style>\n",
       "<table border=\"1\" class=\"dataframe\">\n",
       "  <thead>\n",
       "    <tr style=\"text-align: right;\">\n",
       "      <th></th>\n",
       "      <th>id</th>\n",
       "      <th>task</th>\n",
       "      <th>description</th>\n",
       "      <th>timestamp</th>\n",
       "      <th>mins</th>\n",
       "      <th>done</th>\n",
       "    </tr>\n",
       "  </thead>\n",
       "  <tbody>\n",
       "    <tr>\n",
       "      <th>0</th>\n",
       "      <td>1</td>\n",
       "      <td>b</td>\n",
       "      <td>#asyncio blog post completed</td>\n",
       "      <td>2018-10-12 23:00:56.864056</td>\n",
       "      <td>30</td>\n",
       "      <td>1</td>\n",
       "    </tr>\n",
       "    <tr>\n",
       "      <th>1</th>\n",
       "      <td>2</td>\n",
       "      <td>b</td>\n",
       "      <td>#asyncio is really completicated</td>\n",
       "      <td>2018-10-12 23:01:21.875416</td>\n",
       "      <td>30</td>\n",
       "      <td>1</td>\n",
       "    </tr>\n",
       "    <tr>\n",
       "      <th>2</th>\n",
       "      <td>3</td>\n",
       "      <td>b</td>\n",
       "      <td>#data_science is really completicated</td>\n",
       "      <td>2018-10-12 23:03:26.697286</td>\n",
       "      <td>30</td>\n",
       "      <td>1</td>\n",
       "    </tr>\n",
       "    <tr>\n",
       "      <th>3</th>\n",
       "      <td>4</td>\n",
       "      <td>c</td>\n",
       "      <td>#asyncio completed stuff</td>\n",
       "      <td>2018-10-12 23:07:19.131405</td>\n",
       "      <td>30</td>\n",
       "      <td>1</td>\n",
       "    </tr>\n",
       "    <tr>\n",
       "      <th>4</th>\n",
       "      <td>5</td>\n",
       "      <td>m</td>\n",
       "      <td>#asyncio ask some questions</td>\n",
       "      <td>2018-10-12 23:08:09.363419</td>\n",
       "      <td>30</td>\n",
       "      <td>1</td>\n",
       "    </tr>\n",
       "  </tbody>\n",
       "</table>\n",
       "</div>"
      ],
      "text/plain": [
       "   id task                            description                   timestamp  \\\n",
       "0   1    b           #asyncio blog post completed  2018-10-12 23:00:56.864056   \n",
       "1   2    b       #asyncio is really completicated  2018-10-12 23:01:21.875416   \n",
       "2   3    b  #data_science is really completicated  2018-10-12 23:03:26.697286   \n",
       "3   4    c               #asyncio completed stuff  2018-10-12 23:07:19.131405   \n",
       "4   5    m            #asyncio ask some questions  2018-10-12 23:08:09.363419   \n",
       "\n",
       "   mins  done  \n",
       "0    30     1  \n",
       "1    30     1  \n",
       "2    30     1  \n",
       "3    30     1  \n",
       "4    30     1  "
      ]
     },
     "execution_count": 8,
     "metadata": {},
     "output_type": "execute_result"
    }
   ],
   "source": [
    "df.head() #first 5 rows"
   ]
  },
  {
   "cell_type": "code",
   "execution_count": 9,
   "metadata": {
    "ExecuteTime": {
     "end_time": "2018-11-16T01:12:06.955848Z",
     "start_time": "2018-11-16T01:12:06.946078Z"
    }
   },
   "outputs": [
    {
     "data": {
      "text/html": [
       "<div>\n",
       "<style scoped>\n",
       "    .dataframe tbody tr th:only-of-type {\n",
       "        vertical-align: middle;\n",
       "    }\n",
       "\n",
       "    .dataframe tbody tr th {\n",
       "        vertical-align: top;\n",
       "    }\n",
       "\n",
       "    .dataframe thead th {\n",
       "        text-align: right;\n",
       "    }\n",
       "</style>\n",
       "<table border=\"1\" class=\"dataframe\">\n",
       "  <thead>\n",
       "    <tr style=\"text-align: right;\">\n",
       "      <th></th>\n",
       "      <th>id</th>\n",
       "      <th>task</th>\n",
       "      <th>description</th>\n",
       "      <th>timestamp</th>\n",
       "      <th>mins</th>\n",
       "      <th>done</th>\n",
       "    </tr>\n",
       "  </thead>\n",
       "  <tbody>\n",
       "    <tr>\n",
       "      <th>22</th>\n",
       "      <td>23</td>\n",
       "      <td>c</td>\n",
       "      <td>#pandas apply function to a dataframe</td>\n",
       "      <td>2018-11-04 05:39:13.803043</td>\n",
       "      <td>20</td>\n",
       "      <td>1</td>\n",
       "    </tr>\n",
       "    <tr>\n",
       "      <th>23</th>\n",
       "      <td>24</td>\n",
       "      <td>m</td>\n",
       "      <td>checking in with mentor</td>\n",
       "      <td>2018-11-04 05:43:03.523862</td>\n",
       "      <td>20</td>\n",
       "      <td>1</td>\n",
       "    </tr>\n",
       "    <tr>\n",
       "      <th>24</th>\n",
       "      <td>25</td>\n",
       "      <td>d</td>\n",
       "      <td>stupid typo-ed a comma!</td>\n",
       "      <td>2018-11-04 06:07:05.694163</td>\n",
       "      <td>20</td>\n",
       "      <td>1</td>\n",
       "    </tr>\n",
       "    <tr>\n",
       "      <th>25</th>\n",
       "      <td>26</td>\n",
       "      <td>d</td>\n",
       "      <td>#visualization trying to figure string type fo...</td>\n",
       "      <td>2018-11-04 07:00:06.893573</td>\n",
       "      <td>20</td>\n",
       "      <td>1</td>\n",
       "    </tr>\n",
       "    <tr>\n",
       "      <th>26</th>\n",
       "      <td>27</td>\n",
       "      <td>c</td>\n",
       "      <td>#visualization barchart created</td>\n",
       "      <td>2018-11-04 07:55:20.632394</td>\n",
       "      <td>20</td>\n",
       "      <td>1</td>\n",
       "    </tr>\n",
       "  </tbody>\n",
       "</table>\n",
       "</div>"
      ],
      "text/plain": [
       "    id task                                        description  \\\n",
       "22  23    c              #pandas apply function to a dataframe   \n",
       "23  24    m                            checking in with mentor   \n",
       "24  25    d                            stupid typo-ed a comma!   \n",
       "25  26    d  #visualization trying to figure string type fo...   \n",
       "26  27    c                    #visualization barchart created   \n",
       "\n",
       "                     timestamp  mins  done  \n",
       "22  2018-11-04 05:39:13.803043    20     1  \n",
       "23  2018-11-04 05:43:03.523862    20     1  \n",
       "24  2018-11-04 06:07:05.694163    20     1  \n",
       "25  2018-11-04 07:00:06.893573    20     1  \n",
       "26  2018-11-04 07:55:20.632394    20     1  "
      ]
     },
     "execution_count": 9,
     "metadata": {},
     "output_type": "execute_result"
    }
   ],
   "source": [
    "df.tail() # last 5 rows"
   ]
  },
  {
   "cell_type": "markdown",
   "metadata": {},
   "source": [
    "### Fix data type"
   ]
  },
  {
   "cell_type": "markdown",
   "metadata": {},
   "source": [
    "Pandas has the following data types."
   ]
  },
  {
   "cell_type": "markdown",
   "metadata": {},
   "source": [
    "```\n",
    "object\n",
    "int64\n",
    "float64\n",
    "bool\n",
    "datetime64\n",
    "timedelta[ns]\n",
    "category\n",
    "```"
   ]
  },
  {
   "cell_type": "markdown",
   "metadata": {},
   "source": [
    "Notice that when we imported the data from our sqlite database, all the columns got imported as objects. Lets fix this by editing the data type of the column inplace, i.e. modify the data frame so that beyond this point this change will persist for the dataframe."
   ]
  },
  {
   "cell_type": "code",
   "execution_count": 10,
   "metadata": {
    "ExecuteTime": {
     "end_time": "2018-11-16T01:13:16.583839Z",
     "start_time": "2018-11-16T01:13:16.579839Z"
    }
   },
   "outputs": [
    {
     "data": {
      "text/plain": [
       "id              int64\n",
       "task           object\n",
       "description    object\n",
       "timestamp      object\n",
       "mins            int64\n",
       "done            int64\n",
       "dtype: object"
      ]
     },
     "execution_count": 10,
     "metadata": {},
     "output_type": "execute_result"
    }
   ],
   "source": [
    "df.dtypes"
   ]
  },
  {
   "cell_type": "code",
   "execution_count": 11,
   "metadata": {
    "ExecuteTime": {
     "end_time": "2018-11-16T01:13:33.655673Z",
     "start_time": "2018-11-16T01:13:33.634425Z"
    }
   },
   "outputs": [
    {
     "data": {
      "text/html": [
       "<div>\n",
       "<style scoped>\n",
       "    .dataframe tbody tr th:only-of-type {\n",
       "        vertical-align: middle;\n",
       "    }\n",
       "\n",
       "    .dataframe tbody tr th {\n",
       "        vertical-align: top;\n",
       "    }\n",
       "\n",
       "    .dataframe thead th {\n",
       "        text-align: right;\n",
       "    }\n",
       "</style>\n",
       "<table border=\"1\" class=\"dataframe\">\n",
       "  <thead>\n",
       "    <tr style=\"text-align: right;\">\n",
       "      <th></th>\n",
       "      <th>id</th>\n",
       "      <th>task</th>\n",
       "      <th>description</th>\n",
       "      <th>timestamp</th>\n",
       "      <th>mins</th>\n",
       "      <th>done</th>\n",
       "    </tr>\n",
       "  </thead>\n",
       "  <tbody>\n",
       "    <tr>\n",
       "      <th>0</th>\n",
       "      <td>1</td>\n",
       "      <td>b</td>\n",
       "      <td>#asyncio blog post completed</td>\n",
       "      <td>2018-10-12 23:00:56.864056</td>\n",
       "      <td>30</td>\n",
       "      <td>True</td>\n",
       "    </tr>\n",
       "    <tr>\n",
       "      <th>1</th>\n",
       "      <td>2</td>\n",
       "      <td>b</td>\n",
       "      <td>#asyncio is really completicated</td>\n",
       "      <td>2018-10-12 23:01:21.875416</td>\n",
       "      <td>30</td>\n",
       "      <td>True</td>\n",
       "    </tr>\n",
       "    <tr>\n",
       "      <th>2</th>\n",
       "      <td>3</td>\n",
       "      <td>b</td>\n",
       "      <td>#data_science is really completicated</td>\n",
       "      <td>2018-10-12 23:03:26.697286</td>\n",
       "      <td>30</td>\n",
       "      <td>True</td>\n",
       "    </tr>\n",
       "    <tr>\n",
       "      <th>3</th>\n",
       "      <td>4</td>\n",
       "      <td>c</td>\n",
       "      <td>#asyncio completed stuff</td>\n",
       "      <td>2018-10-12 23:07:19.131405</td>\n",
       "      <td>30</td>\n",
       "      <td>True</td>\n",
       "    </tr>\n",
       "    <tr>\n",
       "      <th>4</th>\n",
       "      <td>5</td>\n",
       "      <td>m</td>\n",
       "      <td>#asyncio ask some questions</td>\n",
       "      <td>2018-10-12 23:08:09.363419</td>\n",
       "      <td>30</td>\n",
       "      <td>True</td>\n",
       "    </tr>\n",
       "  </tbody>\n",
       "</table>\n",
       "</div>"
      ],
      "text/plain": [
       "   id task                            description                  timestamp  \\\n",
       "0   1    b           #asyncio blog post completed 2018-10-12 23:00:56.864056   \n",
       "1   2    b       #asyncio is really completicated 2018-10-12 23:01:21.875416   \n",
       "2   3    b  #data_science is really completicated 2018-10-12 23:03:26.697286   \n",
       "3   4    c               #asyncio completed stuff 2018-10-12 23:07:19.131405   \n",
       "4   5    m            #asyncio ask some questions 2018-10-12 23:08:09.363419   \n",
       "\n",
       "   mins  done  \n",
       "0    30  True  \n",
       "1    30  True  \n",
       "2    30  True  \n",
       "3    30  True  \n",
       "4    30  True  "
      ]
     },
     "execution_count": 11,
     "metadata": {},
     "output_type": "execute_result"
    }
   ],
   "source": [
    "df['timestamp'] = df['timestamp'].astype('datetime64[ns]')\n",
    "df['done'] = df['done'].astype('bool')\n",
    "df.head()"
   ]
  },
  {
   "cell_type": "markdown",
   "metadata": {},
   "source": [
    "### Index, columns and summary"
   ]
  },
  {
   "cell_type": "code",
   "execution_count": 12,
   "metadata": {
    "ExecuteTime": {
     "end_time": "2018-11-16T01:13:38.158549Z",
     "start_time": "2018-11-16T01:13:38.154295Z"
    }
   },
   "outputs": [
    {
     "data": {
      "text/plain": [
       "RangeIndex(start=0, stop=27, step=1)"
      ]
     },
     "execution_count": 12,
     "metadata": {},
     "output_type": "execute_result"
    }
   ],
   "source": [
    "df.index"
   ]
  },
  {
   "cell_type": "markdown",
   "metadata": {},
   "source": [
    "Columns"
   ]
  },
  {
   "cell_type": "code",
   "execution_count": 13,
   "metadata": {
    "ExecuteTime": {
     "end_time": "2018-11-16T01:13:41.497769Z",
     "start_time": "2018-11-16T01:13:41.494214Z"
    }
   },
   "outputs": [
    {
     "data": {
      "text/plain": [
       "Index(['id', 'task', 'description', 'timestamp', 'mins', 'done'], dtype='object')"
      ]
     },
     "execution_count": 13,
     "metadata": {},
     "output_type": "execute_result"
    }
   ],
   "source": [
    "df.columns"
   ]
  },
  {
   "cell_type": "markdown",
   "metadata": {},
   "source": [
    "Quickly summarize the descriptive statistics"
   ]
  },
  {
   "cell_type": "code",
   "execution_count": 14,
   "metadata": {
    "ExecuteTime": {
     "end_time": "2018-11-16T01:13:43.494670Z",
     "start_time": "2018-11-16T01:13:43.471448Z"
    }
   },
   "outputs": [
    {
     "data": {
      "text/html": [
       "<div>\n",
       "<style scoped>\n",
       "    .dataframe tbody tr th:only-of-type {\n",
       "        vertical-align: middle;\n",
       "    }\n",
       "\n",
       "    .dataframe tbody tr th {\n",
       "        vertical-align: top;\n",
       "    }\n",
       "\n",
       "    .dataframe thead th {\n",
       "        text-align: right;\n",
       "    }\n",
       "</style>\n",
       "<table border=\"1\" class=\"dataframe\">\n",
       "  <thead>\n",
       "    <tr style=\"text-align: right;\">\n",
       "      <th></th>\n",
       "      <th>id</th>\n",
       "      <th>mins</th>\n",
       "    </tr>\n",
       "  </thead>\n",
       "  <tbody>\n",
       "    <tr>\n",
       "      <th>count</th>\n",
       "      <td>27.000000</td>\n",
       "      <td>27.000000</td>\n",
       "    </tr>\n",
       "    <tr>\n",
       "      <th>mean</th>\n",
       "      <td>14.000000</td>\n",
       "      <td>22.592593</td>\n",
       "    </tr>\n",
       "    <tr>\n",
       "      <th>std</th>\n",
       "      <td>7.937254</td>\n",
       "      <td>8.477387</td>\n",
       "    </tr>\n",
       "    <tr>\n",
       "      <th>min</th>\n",
       "      <td>1.000000</td>\n",
       "      <td>5.000000</td>\n",
       "    </tr>\n",
       "    <tr>\n",
       "      <th>25%</th>\n",
       "      <td>7.500000</td>\n",
       "      <td>20.000000</td>\n",
       "    </tr>\n",
       "    <tr>\n",
       "      <th>50%</th>\n",
       "      <td>14.000000</td>\n",
       "      <td>20.000000</td>\n",
       "    </tr>\n",
       "    <tr>\n",
       "      <th>75%</th>\n",
       "      <td>20.500000</td>\n",
       "      <td>30.000000</td>\n",
       "    </tr>\n",
       "    <tr>\n",
       "      <th>max</th>\n",
       "      <td>27.000000</td>\n",
       "      <td>30.000000</td>\n",
       "    </tr>\n",
       "  </tbody>\n",
       "</table>\n",
       "</div>"
      ],
      "text/plain": [
       "              id       mins\n",
       "count  27.000000  27.000000\n",
       "mean   14.000000  22.592593\n",
       "std     7.937254   8.477387\n",
       "min     1.000000   5.000000\n",
       "25%     7.500000  20.000000\n",
       "50%    14.000000  20.000000\n",
       "75%    20.500000  30.000000\n",
       "max    27.000000  30.000000"
      ]
     },
     "execution_count": 14,
     "metadata": {},
     "output_type": "execute_result"
    }
   ],
   "source": [
    "df.describe()"
   ]
  },
  {
   "cell_type": "markdown",
   "metadata": {},
   "source": [
    "### Selecting data"
   ]
  },
  {
   "cell_type": "markdown",
   "metadata": {},
   "source": [
    "Lets say we need to find the first three tasks, and get the values for timestamp and description of the task. Pandas provides a few ways to access the data from the dataframe - by label based indexes, numerical indexes or a hybrid approach.\n",
    "\n",
    "Try them out by yourself, by running the code below."
   ]
  },
  {
   "cell_type": "markdown",
   "metadata": {},
   "source": [
    "```python\n",
    "df[0:2] # gives you first three rows, all columns\n",
    "df[0:2][['timestamp', 'description']] # returns a copy with only 'timestamp' and 'description'\n",
    "\n",
    "df.iloc[0:2] # purely integer based indexing, similar to indexing in python. first three rows, all columns\n",
    "df.iloc[0:2][['timestamp', 'description']]\n",
    "df.iloc[[0,1,2],[2,3]]\n",
    "```"
   ]
  },
  {
   "cell_type": "code",
   "execution_count": 15,
   "metadata": {
    "ExecuteTime": {
     "end_time": "2018-11-16T01:15:38.766813Z",
     "start_time": "2018-11-16T01:15:38.752137Z"
    }
   },
   "outputs": [
    {
     "data": {
      "text/html": [
       "<div>\n",
       "<style scoped>\n",
       "    .dataframe tbody tr th:only-of-type {\n",
       "        vertical-align: middle;\n",
       "    }\n",
       "\n",
       "    .dataframe tbody tr th {\n",
       "        vertical-align: top;\n",
       "    }\n",
       "\n",
       "    .dataframe thead th {\n",
       "        text-align: right;\n",
       "    }\n",
       "</style>\n",
       "<table border=\"1\" class=\"dataframe\">\n",
       "  <thead>\n",
       "    <tr style=\"text-align: right;\">\n",
       "      <th></th>\n",
       "      <th>description</th>\n",
       "      <th>timestamp</th>\n",
       "    </tr>\n",
       "  </thead>\n",
       "  <tbody>\n",
       "    <tr>\n",
       "      <th>0</th>\n",
       "      <td>#asyncio blog post completed</td>\n",
       "      <td>2018-10-12 23:00:56.864056</td>\n",
       "    </tr>\n",
       "    <tr>\n",
       "      <th>1</th>\n",
       "      <td>#asyncio is really completicated</td>\n",
       "      <td>2018-10-12 23:01:21.875416</td>\n",
       "    </tr>\n",
       "    <tr>\n",
       "      <th>2</th>\n",
       "      <td>#data_science is really completicated</td>\n",
       "      <td>2018-10-12 23:03:26.697286</td>\n",
       "    </tr>\n",
       "  </tbody>\n",
       "</table>\n",
       "</div>"
      ],
      "text/plain": [
       "                             description                  timestamp\n",
       "0           #asyncio blog post completed 2018-10-12 23:00:56.864056\n",
       "1       #asyncio is really completicated 2018-10-12 23:01:21.875416\n",
       "2  #data_science is really completicated 2018-10-12 23:03:26.697286"
      ]
     },
     "execution_count": 15,
     "metadata": {},
     "output_type": "execute_result"
    }
   ],
   "source": [
    "df.iloc[[0,1,2],[2,3]]"
   ]
  },
  {
   "cell_type": "markdown",
   "metadata": {},
   "source": [
    "To better understand how indexes work and show how the last two are different, lets make a copy of our dataframe."
   ]
  },
  {
   "cell_type": "code",
   "execution_count": 16,
   "metadata": {
    "ExecuteTime": {
     "end_time": "2018-11-16T01:15:46.143866Z",
     "start_time": "2018-11-16T01:15:46.141157Z"
    }
   },
   "outputs": [],
   "source": [
    "_df = df.copy()"
   ]
  },
  {
   "cell_type": "markdown",
   "metadata": {},
   "source": [
    "Lets set the index to be task instead of index pandas automatically provided us with."
   ]
  },
  {
   "cell_type": "code",
   "execution_count": 17,
   "metadata": {
    "ExecuteTime": {
     "end_time": "2018-11-16T01:15:57.329647Z",
     "start_time": "2018-11-16T01:15:57.326707Z"
    }
   },
   "outputs": [],
   "source": [
    "_df.set_index('task', inplace=True)"
   ]
  },
  {
   "cell_type": "markdown",
   "metadata": {},
   "source": [
    "Take a look at how the `_df` is different from `df`."
   ]
  },
  {
   "cell_type": "code",
   "execution_count": 18,
   "metadata": {
    "ExecuteTime": {
     "end_time": "2018-11-16T01:16:01.971228Z",
     "start_time": "2018-11-16T01:16:01.956381Z"
    }
   },
   "outputs": [
    {
     "data": {
      "text/html": [
       "<div>\n",
       "<style scoped>\n",
       "    .dataframe tbody tr th:only-of-type {\n",
       "        vertical-align: middle;\n",
       "    }\n",
       "\n",
       "    .dataframe tbody tr th {\n",
       "        vertical-align: top;\n",
       "    }\n",
       "\n",
       "    .dataframe thead th {\n",
       "        text-align: right;\n",
       "    }\n",
       "</style>\n",
       "<table border=\"1\" class=\"dataframe\">\n",
       "  <thead>\n",
       "    <tr style=\"text-align: right;\">\n",
       "      <th></th>\n",
       "      <th>id</th>\n",
       "      <th>description</th>\n",
       "      <th>timestamp</th>\n",
       "      <th>mins</th>\n",
       "      <th>done</th>\n",
       "    </tr>\n",
       "    <tr>\n",
       "      <th>task</th>\n",
       "      <th></th>\n",
       "      <th></th>\n",
       "      <th></th>\n",
       "      <th></th>\n",
       "      <th></th>\n",
       "    </tr>\n",
       "  </thead>\n",
       "  <tbody>\n",
       "    <tr>\n",
       "      <th>b</th>\n",
       "      <td>1</td>\n",
       "      <td>#asyncio blog post completed</td>\n",
       "      <td>2018-10-12 23:00:56.864056</td>\n",
       "      <td>30</td>\n",
       "      <td>True</td>\n",
       "    </tr>\n",
       "    <tr>\n",
       "      <th>b</th>\n",
       "      <td>2</td>\n",
       "      <td>#asyncio is really completicated</td>\n",
       "      <td>2018-10-12 23:01:21.875416</td>\n",
       "      <td>30</td>\n",
       "      <td>True</td>\n",
       "    </tr>\n",
       "    <tr>\n",
       "      <th>b</th>\n",
       "      <td>3</td>\n",
       "      <td>#data_science is really completicated</td>\n",
       "      <td>2018-10-12 23:03:26.697286</td>\n",
       "      <td>30</td>\n",
       "      <td>True</td>\n",
       "    </tr>\n",
       "    <tr>\n",
       "      <th>c</th>\n",
       "      <td>4</td>\n",
       "      <td>#asyncio completed stuff</td>\n",
       "      <td>2018-10-12 23:07:19.131405</td>\n",
       "      <td>30</td>\n",
       "      <td>True</td>\n",
       "    </tr>\n",
       "    <tr>\n",
       "      <th>m</th>\n",
       "      <td>5</td>\n",
       "      <td>#asyncio ask some questions</td>\n",
       "      <td>2018-10-12 23:08:09.363419</td>\n",
       "      <td>30</td>\n",
       "      <td>True</td>\n",
       "    </tr>\n",
       "    <tr>\n",
       "      <th>m</th>\n",
       "      <td>6</td>\n",
       "      <td>#asyncio got the answerss</td>\n",
       "      <td>2018-10-12 23:08:20.690693</td>\n",
       "      <td>30</td>\n",
       "      <td>True</td>\n",
       "    </tr>\n",
       "    <tr>\n",
       "      <th>d</th>\n",
       "      <td>7</td>\n",
       "      <td>#asyncio got the answerss</td>\n",
       "      <td>2018-10-12 23:08:37.566848</td>\n",
       "      <td>30</td>\n",
       "      <td>True</td>\n",
       "    </tr>\n",
       "    <tr>\n",
       "      <th>r</th>\n",
       "      <td>8</td>\n",
       "      <td>#asyncio looking into docs</td>\n",
       "      <td>2018-10-12 23:08:56.649820</td>\n",
       "      <td>30</td>\n",
       "      <td>True</td>\n",
       "    </tr>\n",
       "    <tr>\n",
       "      <th>p</th>\n",
       "      <td>9</td>\n",
       "      <td>#asyncio coding in the stuff</td>\n",
       "      <td>2018-10-12 23:10:12.633999</td>\n",
       "      <td>30</td>\n",
       "      <td>True</td>\n",
       "    </tr>\n",
       "    <tr>\n",
       "      <th>d</th>\n",
       "      <td>10</td>\n",
       "      <td>#jinja trying to figure app_context</td>\n",
       "      <td>2018-10-14 09:07:52.702126</td>\n",
       "      <td>30</td>\n",
       "      <td>True</td>\n",
       "    </tr>\n",
       "    <tr>\n",
       "      <th>d</th>\n",
       "      <td>11</td>\n",
       "      <td>#bootstrap cards how to make cards cliackable</td>\n",
       "      <td>2018-10-14 09:08:38.856013</td>\n",
       "      <td>30</td>\n",
       "      <td>True</td>\n",
       "    </tr>\n",
       "    <tr>\n",
       "      <th>d</th>\n",
       "      <td>12</td>\n",
       "      <td>#bootstrap figuring out how to integrate wtforms</td>\n",
       "      <td>2018-10-15 19:05:23.955170</td>\n",
       "      <td>30</td>\n",
       "      <td>True</td>\n",
       "    </tr>\n",
       "    <tr>\n",
       "      <th>d</th>\n",
       "      <td>13</td>\n",
       "      <td>#bootstrap trying to get form alignment working</td>\n",
       "      <td>2018-10-15 19:07:06.278395</td>\n",
       "      <td>5</td>\n",
       "      <td>True</td>\n",
       "    </tr>\n",
       "    <tr>\n",
       "      <th>d</th>\n",
       "      <td>14</td>\n",
       "      <td>#cft trying to figure how to add read replica</td>\n",
       "      <td>2018-10-21 08:02:29.179643</td>\n",
       "      <td>20</td>\n",
       "      <td>True</td>\n",
       "    </tr>\n",
       "    <tr>\n",
       "      <th>r</th>\n",
       "      <td>15</td>\n",
       "      <td>#cft read through cloud formation docs to unde...</td>\n",
       "      <td>2018-10-21 09:08:42.564314</td>\n",
       "      <td>30</td>\n",
       "      <td>True</td>\n",
       "    </tr>\n",
       "    <tr>\n",
       "      <th>r</th>\n",
       "      <td>16</td>\n",
       "      <td>#pandas tutorial for timeseries analysis</td>\n",
       "      <td>2018-11-03 09:59:59.886021</td>\n",
       "      <td>20</td>\n",
       "      <td>True</td>\n",
       "    </tr>\n",
       "    <tr>\n",
       "      <th>r</th>\n",
       "      <td>17</td>\n",
       "      <td>#pandas fixing matplotlib errors needed restar...</td>\n",
       "      <td>2018-11-03 10:07:50.354188</td>\n",
       "      <td>5</td>\n",
       "      <td>True</td>\n",
       "    </tr>\n",
       "    <tr>\n",
       "      <th>d</th>\n",
       "      <td>18</td>\n",
       "      <td>#pandas converting timestamp to datetime64</td>\n",
       "      <td>2018-11-03 10:54:21.074068</td>\n",
       "      <td>10</td>\n",
       "      <td>True</td>\n",
       "    </tr>\n",
       "    <tr>\n",
       "      <th>r</th>\n",
       "      <td>19</td>\n",
       "      <td>timeseries data visualization with vega, vega-...</td>\n",
       "      <td>2018-11-03 11:12:53.290185</td>\n",
       "      <td>10</td>\n",
       "      <td>True</td>\n",
       "    </tr>\n",
       "    <tr>\n",
       "      <th>r</th>\n",
       "      <td>20</td>\n",
       "      <td>#visualization</td>\n",
       "      <td>2018-11-03 11:59:11.041432</td>\n",
       "      <td>10</td>\n",
       "      <td>True</td>\n",
       "    </tr>\n",
       "    <tr>\n",
       "      <th>c</th>\n",
       "      <td>21</td>\n",
       "      <td>#pandas which tasks take up most time</td>\n",
       "      <td>2018-11-03 18:05:39.199989</td>\n",
       "      <td>20</td>\n",
       "      <td>True</td>\n",
       "    </tr>\n",
       "    <tr>\n",
       "      <th>c</th>\n",
       "      <td>22</td>\n",
       "      <td>#pandas #regular_expression which tasks take u...</td>\n",
       "      <td>2018-11-03 18:08:00.601788</td>\n",
       "      <td>20</td>\n",
       "      <td>True</td>\n",
       "    </tr>\n",
       "    <tr>\n",
       "      <th>c</th>\n",
       "      <td>23</td>\n",
       "      <td>#pandas apply function to a dataframe</td>\n",
       "      <td>2018-11-04 05:39:13.803043</td>\n",
       "      <td>20</td>\n",
       "      <td>True</td>\n",
       "    </tr>\n",
       "    <tr>\n",
       "      <th>m</th>\n",
       "      <td>24</td>\n",
       "      <td>checking in with mentor</td>\n",
       "      <td>2018-11-04 05:43:03.523862</td>\n",
       "      <td>20</td>\n",
       "      <td>True</td>\n",
       "    </tr>\n",
       "    <tr>\n",
       "      <th>d</th>\n",
       "      <td>25</td>\n",
       "      <td>stupid typo-ed a comma!</td>\n",
       "      <td>2018-11-04 06:07:05.694163</td>\n",
       "      <td>20</td>\n",
       "      <td>True</td>\n",
       "    </tr>\n",
       "    <tr>\n",
       "      <th>d</th>\n",
       "      <td>26</td>\n",
       "      <td>#visualization trying to figure string type fo...</td>\n",
       "      <td>2018-11-04 07:00:06.893573</td>\n",
       "      <td>20</td>\n",
       "      <td>True</td>\n",
       "    </tr>\n",
       "    <tr>\n",
       "      <th>c</th>\n",
       "      <td>27</td>\n",
       "      <td>#visualization barchart created</td>\n",
       "      <td>2018-11-04 07:55:20.632394</td>\n",
       "      <td>20</td>\n",
       "      <td>True</td>\n",
       "    </tr>\n",
       "  </tbody>\n",
       "</table>\n",
       "</div>"
      ],
      "text/plain": [
       "      id                                        description  \\\n",
       "task                                                          \n",
       "b      1                       #asyncio blog post completed   \n",
       "b      2                   #asyncio is really completicated   \n",
       "b      3              #data_science is really completicated   \n",
       "c      4                           #asyncio completed stuff   \n",
       "m      5                        #asyncio ask some questions   \n",
       "m      6                          #asyncio got the answerss   \n",
       "d      7                          #asyncio got the answerss   \n",
       "r      8                         #asyncio looking into docs   \n",
       "p      9                       #asyncio coding in the stuff   \n",
       "d     10                #jinja trying to figure app_context   \n",
       "d     11      #bootstrap cards how to make cards cliackable   \n",
       "d     12   #bootstrap figuring out how to integrate wtforms   \n",
       "d     13    #bootstrap trying to get form alignment working   \n",
       "d     14      #cft trying to figure how to add read replica   \n",
       "r     15  #cft read through cloud formation docs to unde...   \n",
       "r     16           #pandas tutorial for timeseries analysis   \n",
       "r     17  #pandas fixing matplotlib errors needed restar...   \n",
       "d     18         #pandas converting timestamp to datetime64   \n",
       "r     19  timeseries data visualization with vega, vega-...   \n",
       "r     20                                     #visualization   \n",
       "c     21              #pandas which tasks take up most time   \n",
       "c     22  #pandas #regular_expression which tasks take u...   \n",
       "c     23              #pandas apply function to a dataframe   \n",
       "m     24                            checking in with mentor   \n",
       "d     25                            stupid typo-ed a comma!   \n",
       "d     26  #visualization trying to figure string type fo...   \n",
       "c     27                    #visualization barchart created   \n",
       "\n",
       "                      timestamp  mins  done  \n",
       "task                                         \n",
       "b    2018-10-12 23:00:56.864056    30  True  \n",
       "b    2018-10-12 23:01:21.875416    30  True  \n",
       "b    2018-10-12 23:03:26.697286    30  True  \n",
       "c    2018-10-12 23:07:19.131405    30  True  \n",
       "m    2018-10-12 23:08:09.363419    30  True  \n",
       "m    2018-10-12 23:08:20.690693    30  True  \n",
       "d    2018-10-12 23:08:37.566848    30  True  \n",
       "r    2018-10-12 23:08:56.649820    30  True  \n",
       "p    2018-10-12 23:10:12.633999    30  True  \n",
       "d    2018-10-14 09:07:52.702126    30  True  \n",
       "d    2018-10-14 09:08:38.856013    30  True  \n",
       "d    2018-10-15 19:05:23.955170    30  True  \n",
       "d    2018-10-15 19:07:06.278395     5  True  \n",
       "d    2018-10-21 08:02:29.179643    20  True  \n",
       "r    2018-10-21 09:08:42.564314    30  True  \n",
       "r    2018-11-03 09:59:59.886021    20  True  \n",
       "r    2018-11-03 10:07:50.354188     5  True  \n",
       "d    2018-11-03 10:54:21.074068    10  True  \n",
       "r    2018-11-03 11:12:53.290185    10  True  \n",
       "r    2018-11-03 11:59:11.041432    10  True  \n",
       "c    2018-11-03 18:05:39.199989    20  True  \n",
       "c    2018-11-03 18:08:00.601788    20  True  \n",
       "c    2018-11-04 05:39:13.803043    20  True  \n",
       "m    2018-11-04 05:43:03.523862    20  True  \n",
       "d    2018-11-04 06:07:05.694163    20  True  \n",
       "d    2018-11-04 07:00:06.893573    20  True  \n",
       "c    2018-11-04 07:55:20.632394    20  True  "
      ]
     },
     "execution_count": 18,
     "metadata": {},
     "output_type": "execute_result"
    }
   ],
   "source": [
    "_df"
   ]
  },
  {
   "cell_type": "markdown",
   "metadata": {},
   "source": [
    "Now execute the following cells to find how different indexes can be used for selecting data."
   ]
  },
  {
   "cell_type": "markdown",
   "metadata": {},
   "source": [
    "```python\n",
    "_df.loc['b'] # all rows matching task type b\n",
    "_df.loc[_df['mins']==30, ['description','timestamp']] # returns only a dataframe where the mins equals 30\n",
    "_df.loc[_df['mins']==30, 'description'] # returns a series where the mins equals 30\n",
    "```"
   ]
  },
  {
   "cell_type": "code",
   "execution_count": 19,
   "metadata": {
    "ExecuteTime": {
     "end_time": "2018-11-16T01:16:39.848510Z",
     "start_time": "2018-11-16T01:16:39.832373Z"
    }
   },
   "outputs": [
    {
     "data": {
      "text/html": [
       "<div>\n",
       "<style scoped>\n",
       "    .dataframe tbody tr th:only-of-type {\n",
       "        vertical-align: middle;\n",
       "    }\n",
       "\n",
       "    .dataframe tbody tr th {\n",
       "        vertical-align: top;\n",
       "    }\n",
       "\n",
       "    .dataframe thead th {\n",
       "        text-align: right;\n",
       "    }\n",
       "</style>\n",
       "<table border=\"1\" class=\"dataframe\">\n",
       "  <thead>\n",
       "    <tr style=\"text-align: right;\">\n",
       "      <th></th>\n",
       "      <th>id</th>\n",
       "      <th>description</th>\n",
       "      <th>timestamp</th>\n",
       "      <th>mins</th>\n",
       "      <th>done</th>\n",
       "    </tr>\n",
       "    <tr>\n",
       "      <th>task</th>\n",
       "      <th></th>\n",
       "      <th></th>\n",
       "      <th></th>\n",
       "      <th></th>\n",
       "      <th></th>\n",
       "    </tr>\n",
       "  </thead>\n",
       "  <tbody>\n",
       "    <tr>\n",
       "      <th>b</th>\n",
       "      <td>1</td>\n",
       "      <td>#asyncio blog post completed</td>\n",
       "      <td>2018-10-12 23:00:56.864056</td>\n",
       "      <td>30</td>\n",
       "      <td>True</td>\n",
       "    </tr>\n",
       "    <tr>\n",
       "      <th>b</th>\n",
       "      <td>2</td>\n",
       "      <td>#asyncio is really completicated</td>\n",
       "      <td>2018-10-12 23:01:21.875416</td>\n",
       "      <td>30</td>\n",
       "      <td>True</td>\n",
       "    </tr>\n",
       "    <tr>\n",
       "      <th>b</th>\n",
       "      <td>3</td>\n",
       "      <td>#data_science is really completicated</td>\n",
       "      <td>2018-10-12 23:03:26.697286</td>\n",
       "      <td>30</td>\n",
       "      <td>True</td>\n",
       "    </tr>\n",
       "  </tbody>\n",
       "</table>\n",
       "</div>"
      ],
      "text/plain": [
       "      id                            description                  timestamp  \\\n",
       "task                                                                         \n",
       "b      1           #asyncio blog post completed 2018-10-12 23:00:56.864056   \n",
       "b      2       #asyncio is really completicated 2018-10-12 23:01:21.875416   \n",
       "b      3  #data_science is really completicated 2018-10-12 23:03:26.697286   \n",
       "\n",
       "      mins  done  \n",
       "task              \n",
       "b       30  True  \n",
       "b       30  True  \n",
       "b       30  True  "
      ]
     },
     "execution_count": 19,
     "metadata": {},
     "output_type": "execute_result"
    }
   ],
   "source": [
    "_df.loc['b']"
   ]
  },
  {
   "cell_type": "code",
   "execution_count": 20,
   "metadata": {
    "ExecuteTime": {
     "end_time": "2018-11-16T01:16:47.519201Z",
     "start_time": "2018-11-16T01:16:47.503457Z"
    }
   },
   "outputs": [
    {
     "data": {
      "text/html": [
       "<div>\n",
       "<style scoped>\n",
       "    .dataframe tbody tr th:only-of-type {\n",
       "        vertical-align: middle;\n",
       "    }\n",
       "\n",
       "    .dataframe tbody tr th {\n",
       "        vertical-align: top;\n",
       "    }\n",
       "\n",
       "    .dataframe thead th {\n",
       "        text-align: right;\n",
       "    }\n",
       "</style>\n",
       "<table border=\"1\" class=\"dataframe\">\n",
       "  <thead>\n",
       "    <tr style=\"text-align: right;\">\n",
       "      <th></th>\n",
       "      <th>description</th>\n",
       "      <th>timestamp</th>\n",
       "    </tr>\n",
       "    <tr>\n",
       "      <th>task</th>\n",
       "      <th></th>\n",
       "      <th></th>\n",
       "    </tr>\n",
       "  </thead>\n",
       "  <tbody>\n",
       "    <tr>\n",
       "      <th>b</th>\n",
       "      <td>#asyncio blog post completed</td>\n",
       "      <td>2018-10-12 23:00:56.864056</td>\n",
       "    </tr>\n",
       "    <tr>\n",
       "      <th>b</th>\n",
       "      <td>#asyncio is really completicated</td>\n",
       "      <td>2018-10-12 23:01:21.875416</td>\n",
       "    </tr>\n",
       "    <tr>\n",
       "      <th>b</th>\n",
       "      <td>#data_science is really completicated</td>\n",
       "      <td>2018-10-12 23:03:26.697286</td>\n",
       "    </tr>\n",
       "    <tr>\n",
       "      <th>c</th>\n",
       "      <td>#asyncio completed stuff</td>\n",
       "      <td>2018-10-12 23:07:19.131405</td>\n",
       "    </tr>\n",
       "    <tr>\n",
       "      <th>m</th>\n",
       "      <td>#asyncio ask some questions</td>\n",
       "      <td>2018-10-12 23:08:09.363419</td>\n",
       "    </tr>\n",
       "    <tr>\n",
       "      <th>m</th>\n",
       "      <td>#asyncio got the answerss</td>\n",
       "      <td>2018-10-12 23:08:20.690693</td>\n",
       "    </tr>\n",
       "    <tr>\n",
       "      <th>d</th>\n",
       "      <td>#asyncio got the answerss</td>\n",
       "      <td>2018-10-12 23:08:37.566848</td>\n",
       "    </tr>\n",
       "    <tr>\n",
       "      <th>r</th>\n",
       "      <td>#asyncio looking into docs</td>\n",
       "      <td>2018-10-12 23:08:56.649820</td>\n",
       "    </tr>\n",
       "    <tr>\n",
       "      <th>p</th>\n",
       "      <td>#asyncio coding in the stuff</td>\n",
       "      <td>2018-10-12 23:10:12.633999</td>\n",
       "    </tr>\n",
       "    <tr>\n",
       "      <th>d</th>\n",
       "      <td>#jinja trying to figure app_context</td>\n",
       "      <td>2018-10-14 09:07:52.702126</td>\n",
       "    </tr>\n",
       "    <tr>\n",
       "      <th>d</th>\n",
       "      <td>#bootstrap cards how to make cards cliackable</td>\n",
       "      <td>2018-10-14 09:08:38.856013</td>\n",
       "    </tr>\n",
       "    <tr>\n",
       "      <th>d</th>\n",
       "      <td>#bootstrap figuring out how to integrate wtforms</td>\n",
       "      <td>2018-10-15 19:05:23.955170</td>\n",
       "    </tr>\n",
       "    <tr>\n",
       "      <th>r</th>\n",
       "      <td>#cft read through cloud formation docs to unde...</td>\n",
       "      <td>2018-10-21 09:08:42.564314</td>\n",
       "    </tr>\n",
       "  </tbody>\n",
       "</table>\n",
       "</div>"
      ],
      "text/plain": [
       "                                            description  \\\n",
       "task                                                      \n",
       "b                          #asyncio blog post completed   \n",
       "b                      #asyncio is really completicated   \n",
       "b                 #data_science is really completicated   \n",
       "c                              #asyncio completed stuff   \n",
       "m                           #asyncio ask some questions   \n",
       "m                             #asyncio got the answerss   \n",
       "d                             #asyncio got the answerss   \n",
       "r                            #asyncio looking into docs   \n",
       "p                          #asyncio coding in the stuff   \n",
       "d                   #jinja trying to figure app_context   \n",
       "d         #bootstrap cards how to make cards cliackable   \n",
       "d      #bootstrap figuring out how to integrate wtforms   \n",
       "r     #cft read through cloud formation docs to unde...   \n",
       "\n",
       "                      timestamp  \n",
       "task                             \n",
       "b    2018-10-12 23:00:56.864056  \n",
       "b    2018-10-12 23:01:21.875416  \n",
       "b    2018-10-12 23:03:26.697286  \n",
       "c    2018-10-12 23:07:19.131405  \n",
       "m    2018-10-12 23:08:09.363419  \n",
       "m    2018-10-12 23:08:20.690693  \n",
       "d    2018-10-12 23:08:37.566848  \n",
       "r    2018-10-12 23:08:56.649820  \n",
       "p    2018-10-12 23:10:12.633999  \n",
       "d    2018-10-14 09:07:52.702126  \n",
       "d    2018-10-14 09:08:38.856013  \n",
       "d    2018-10-15 19:05:23.955170  \n",
       "r    2018-10-21 09:08:42.564314  "
      ]
     },
     "execution_count": 20,
     "metadata": {},
     "output_type": "execute_result"
    }
   ],
   "source": [
    "_df.loc[_df['mins']==30, ['description','timestamp']]"
   ]
  },
  {
   "cell_type": "code",
   "execution_count": 21,
   "metadata": {
    "ExecuteTime": {
     "end_time": "2018-11-16T01:16:51.417091Z",
     "start_time": "2018-11-16T01:16:51.412334Z"
    }
   },
   "outputs": [
    {
     "data": {
      "text/plain": [
       "task\n",
       "b                         #asyncio blog post completed\n",
       "b                     #asyncio is really completicated\n",
       "b                #data_science is really completicated\n",
       "c                             #asyncio completed stuff\n",
       "m                          #asyncio ask some questions\n",
       "m                            #asyncio got the answerss\n",
       "d                            #asyncio got the answerss\n",
       "r                           #asyncio looking into docs\n",
       "p                         #asyncio coding in the stuff\n",
       "d                  #jinja trying to figure app_context\n",
       "d        #bootstrap cards how to make cards cliackable\n",
       "d     #bootstrap figuring out how to integrate wtforms\n",
       "r    #cft read through cloud formation docs to unde...\n",
       "Name: description, dtype: object"
      ]
     },
     "execution_count": 21,
     "metadata": {},
     "output_type": "execute_result"
    }
   ],
   "source": [
    "_df.loc[_df['mins']==30, 'description']"
   ]
  },
  {
   "cell_type": "markdown",
   "metadata": {},
   "source": [
    "Finally, check how having different indexes change the way you access the data."
   ]
  },
  {
   "cell_type": "code",
   "execution_count": 23,
   "metadata": {
    "ExecuteTime": {
     "end_time": "2018-11-16T01:17:32.102376Z",
     "start_time": "2018-11-16T01:17:32.091861Z"
    }
   },
   "outputs": [
    {
     "data": {
      "text/html": [
       "<div>\n",
       "<style scoped>\n",
       "    .dataframe tbody tr th:only-of-type {\n",
       "        vertical-align: middle;\n",
       "    }\n",
       "\n",
       "    .dataframe tbody tr th {\n",
       "        vertical-align: top;\n",
       "    }\n",
       "\n",
       "    .dataframe thead th {\n",
       "        text-align: right;\n",
       "    }\n",
       "</style>\n",
       "<table border=\"1\" class=\"dataframe\">\n",
       "  <thead>\n",
       "    <tr style=\"text-align: right;\">\n",
       "      <th></th>\n",
       "      <th>id</th>\n",
       "      <th>task</th>\n",
       "      <th>description</th>\n",
       "      <th>timestamp</th>\n",
       "      <th>mins</th>\n",
       "      <th>done</th>\n",
       "    </tr>\n",
       "  </thead>\n",
       "  <tbody>\n",
       "    <tr>\n",
       "      <th>0</th>\n",
       "      <td>1</td>\n",
       "      <td>b</td>\n",
       "      <td>#asyncio blog post completed</td>\n",
       "      <td>2018-10-12 23:00:56.864056</td>\n",
       "      <td>30</td>\n",
       "      <td>True</td>\n",
       "    </tr>\n",
       "    <tr>\n",
       "      <th>1</th>\n",
       "      <td>2</td>\n",
       "      <td>b</td>\n",
       "      <td>#asyncio is really completicated</td>\n",
       "      <td>2018-10-12 23:01:21.875416</td>\n",
       "      <td>30</td>\n",
       "      <td>True</td>\n",
       "    </tr>\n",
       "    <tr>\n",
       "      <th>2</th>\n",
       "      <td>3</td>\n",
       "      <td>b</td>\n",
       "      <td>#data_science is really completicated</td>\n",
       "      <td>2018-10-12 23:03:26.697286</td>\n",
       "      <td>30</td>\n",
       "      <td>True</td>\n",
       "    </tr>\n",
       "  </tbody>\n",
       "</table>\n",
       "</div>"
      ],
      "text/plain": [
       "   id task                            description                  timestamp  \\\n",
       "0   1    b           #asyncio blog post completed 2018-10-12 23:00:56.864056   \n",
       "1   2    b       #asyncio is really completicated 2018-10-12 23:01:21.875416   \n",
       "2   3    b  #data_science is really completicated 2018-10-12 23:03:26.697286   \n",
       "\n",
       "   mins  done  \n",
       "0    30  True  \n",
       "1    30  True  \n",
       "2    30  True  "
      ]
     },
     "execution_count": 23,
     "metadata": {},
     "output_type": "execute_result"
    }
   ],
   "source": [
    "df.loc[0:2] # Purely label-location based indexer for selection by label. This works as index is an integer.\n",
    "# _df.loc[0:2] # Does not work"
   ]
  },
  {
   "cell_type": "code",
   "execution_count": null,
   "metadata": {
    "ExecuteTime": {
     "end_time": "2018-11-16T01:17:34.507600Z",
     "start_time": "2018-11-16T01:17:34.491134Z"
    }
   },
   "outputs": [],
   "source": [
    "_df.loc[0:2] # Does not work"
   ]
  },
  {
   "cell_type": "markdown",
   "metadata": {},
   "source": [
    "To understand more about how indexes work read through [Zax's tutorial on Pandas MultiIndex](http://www.zaxrosenberg.com/pandas-multiindex-tutorial/)"
   ]
  },
  {
   "cell_type": "markdown",
   "metadata": {},
   "source": [
    "### Aggregation\n",
    "Now that we have some idea about the basics, lets get into the actual analysis. Lets start by getting the total count of each type of task that we have in our dataset."
   ]
  },
  {
   "cell_type": "code",
   "execution_count": 25,
   "metadata": {
    "ExecuteTime": {
     "end_time": "2018-11-16T01:17:55.481730Z",
     "start_time": "2018-11-16T01:17:55.463733Z"
    }
   },
   "outputs": [
    {
     "data": {
      "text/html": [
       "<div>\n",
       "<style scoped>\n",
       "    .dataframe tbody tr th:only-of-type {\n",
       "        vertical-align: middle;\n",
       "    }\n",
       "\n",
       "    .dataframe tbody tr th {\n",
       "        vertical-align: top;\n",
       "    }\n",
       "\n",
       "    .dataframe thead th {\n",
       "        text-align: right;\n",
       "    }\n",
       "</style>\n",
       "<table border=\"1\" class=\"dataframe\">\n",
       "  <thead>\n",
       "    <tr style=\"text-align: right;\">\n",
       "      <th></th>\n",
       "      <th>id</th>\n",
       "      <th>description</th>\n",
       "      <th>timestamp</th>\n",
       "      <th>mins</th>\n",
       "      <th>done</th>\n",
       "    </tr>\n",
       "    <tr>\n",
       "      <th>task</th>\n",
       "      <th></th>\n",
       "      <th></th>\n",
       "      <th></th>\n",
       "      <th></th>\n",
       "      <th></th>\n",
       "    </tr>\n",
       "  </thead>\n",
       "  <tbody>\n",
       "    <tr>\n",
       "      <th>b</th>\n",
       "      <td>3</td>\n",
       "      <td>3</td>\n",
       "      <td>3</td>\n",
       "      <td>3</td>\n",
       "      <td>3</td>\n",
       "    </tr>\n",
       "    <tr>\n",
       "      <th>c</th>\n",
       "      <td>5</td>\n",
       "      <td>5</td>\n",
       "      <td>5</td>\n",
       "      <td>5</td>\n",
       "      <td>5</td>\n",
       "    </tr>\n",
       "    <tr>\n",
       "      <th>d</th>\n",
       "      <td>9</td>\n",
       "      <td>9</td>\n",
       "      <td>9</td>\n",
       "      <td>9</td>\n",
       "      <td>9</td>\n",
       "    </tr>\n",
       "    <tr>\n",
       "      <th>m</th>\n",
       "      <td>3</td>\n",
       "      <td>3</td>\n",
       "      <td>3</td>\n",
       "      <td>3</td>\n",
       "      <td>3</td>\n",
       "    </tr>\n",
       "    <tr>\n",
       "      <th>p</th>\n",
       "      <td>1</td>\n",
       "      <td>1</td>\n",
       "      <td>1</td>\n",
       "      <td>1</td>\n",
       "      <td>1</td>\n",
       "    </tr>\n",
       "    <tr>\n",
       "      <th>r</th>\n",
       "      <td>6</td>\n",
       "      <td>6</td>\n",
       "      <td>6</td>\n",
       "      <td>6</td>\n",
       "      <td>6</td>\n",
       "    </tr>\n",
       "  </tbody>\n",
       "</table>\n",
       "</div>"
      ],
      "text/plain": [
       "      id  description  timestamp  mins  done\n",
       "task                                        \n",
       "b      3            3          3     3     3\n",
       "c      5            5          5     5     5\n",
       "d      9            9          9     9     9\n",
       "m      3            3          3     3     3\n",
       "p      1            1          1     1     1\n",
       "r      6            6          6     6     6"
      ]
     },
     "execution_count": 25,
     "metadata": {},
     "output_type": "execute_result"
    }
   ],
   "source": [
    "df.groupby(['task']).count()"
   ]
  },
  {
   "cell_type": "markdown",
   "metadata": {},
   "source": [
    "### What are the frequencies of each task type?\n",
    "Note the above result is a Series. One approach can be to reset the index of the series using the count of the task types and sort in the reverse order to get the list."
   ]
  },
  {
   "cell_type": "code",
   "execution_count": 27,
   "metadata": {
    "ExecuteTime": {
     "end_time": "2018-11-16T01:22:17.598173Z",
     "start_time": "2018-11-16T01:22:17.586316Z"
    }
   },
   "outputs": [
    {
     "data": {
      "text/html": [
       "<div>\n",
       "<style scoped>\n",
       "    .dataframe tbody tr th:only-of-type {\n",
       "        vertical-align: middle;\n",
       "    }\n",
       "\n",
       "    .dataframe tbody tr th {\n",
       "        vertical-align: top;\n",
       "    }\n",
       "\n",
       "    .dataframe thead th {\n",
       "        text-align: right;\n",
       "    }\n",
       "</style>\n",
       "<table border=\"1\" class=\"dataframe\">\n",
       "  <thead>\n",
       "    <tr style=\"text-align: right;\">\n",
       "      <th></th>\n",
       "      <th>id</th>\n",
       "      <th>task</th>\n",
       "      <th>description</th>\n",
       "      <th>timestamp</th>\n",
       "      <th>mins</th>\n",
       "      <th>done</th>\n",
       "    </tr>\n",
       "  </thead>\n",
       "  <tbody>\n",
       "    <tr>\n",
       "      <th>0</th>\n",
       "      <td>1</td>\n",
       "      <td>b</td>\n",
       "      <td>#asyncio blog post completed</td>\n",
       "      <td>2018-10-12 23:00:56.864056</td>\n",
       "      <td>30</td>\n",
       "      <td>True</td>\n",
       "    </tr>\n",
       "    <tr>\n",
       "      <th>1</th>\n",
       "      <td>2</td>\n",
       "      <td>b</td>\n",
       "      <td>#asyncio is really completicated</td>\n",
       "      <td>2018-10-12 23:01:21.875416</td>\n",
       "      <td>30</td>\n",
       "      <td>True</td>\n",
       "    </tr>\n",
       "    <tr>\n",
       "      <th>2</th>\n",
       "      <td>3</td>\n",
       "      <td>b</td>\n",
       "      <td>#data_science is really completicated</td>\n",
       "      <td>2018-10-12 23:03:26.697286</td>\n",
       "      <td>30</td>\n",
       "      <td>True</td>\n",
       "    </tr>\n",
       "    <tr>\n",
       "      <th>3</th>\n",
       "      <td>4</td>\n",
       "      <td>c</td>\n",
       "      <td>#asyncio completed stuff</td>\n",
       "      <td>2018-10-12 23:07:19.131405</td>\n",
       "      <td>30</td>\n",
       "      <td>True</td>\n",
       "    </tr>\n",
       "    <tr>\n",
       "      <th>4</th>\n",
       "      <td>5</td>\n",
       "      <td>m</td>\n",
       "      <td>#asyncio ask some questions</td>\n",
       "      <td>2018-10-12 23:08:09.363419</td>\n",
       "      <td>30</td>\n",
       "      <td>True</td>\n",
       "    </tr>\n",
       "  </tbody>\n",
       "</table>\n",
       "</div>"
      ],
      "text/plain": [
       "   id task                            description                  timestamp  \\\n",
       "0   1    b           #asyncio blog post completed 2018-10-12 23:00:56.864056   \n",
       "1   2    b       #asyncio is really completicated 2018-10-12 23:01:21.875416   \n",
       "2   3    b  #data_science is really completicated 2018-10-12 23:03:26.697286   \n",
       "3   4    c               #asyncio completed stuff 2018-10-12 23:07:19.131405   \n",
       "4   5    m            #asyncio ask some questions 2018-10-12 23:08:09.363419   \n",
       "\n",
       "   mins  done  \n",
       "0    30  True  \n",
       "1    30  True  \n",
       "2    30  True  \n",
       "3    30  True  \n",
       "4    30  True  "
      ]
     },
     "execution_count": 27,
     "metadata": {},
     "output_type": "execute_result"
    }
   ],
   "source": [
    "df.head(5)"
   ]
  },
  {
   "cell_type": "code",
   "execution_count": 47,
   "metadata": {
    "ExecuteTime": {
     "end_time": "2018-11-16T01:31:17.820897Z",
     "start_time": "2018-11-16T01:31:17.818492Z"
    }
   },
   "outputs": [],
   "source": [
    "df2 = df.copy()"
   ]
  },
  {
   "cell_type": "code",
   "execution_count": 48,
   "metadata": {
    "ExecuteTime": {
     "end_time": "2018-11-16T01:31:18.411533Z",
     "start_time": "2018-11-16T01:31:18.406765Z"
    }
   },
   "outputs": [],
   "source": [
    "df2 = df2.groupby(['task']).count()"
   ]
  },
  {
   "cell_type": "code",
   "execution_count": 50,
   "metadata": {
    "ExecuteTime": {
     "end_time": "2018-11-16T01:31:56.487230Z",
     "start_time": "2018-11-16T01:31:56.477956Z"
    }
   },
   "outputs": [
    {
     "data": {
      "text/html": [
       "<div>\n",
       "<style scoped>\n",
       "    .dataframe tbody tr th:only-of-type {\n",
       "        vertical-align: middle;\n",
       "    }\n",
       "\n",
       "    .dataframe tbody tr th {\n",
       "        vertical-align: top;\n",
       "    }\n",
       "\n",
       "    .dataframe thead th {\n",
       "        text-align: right;\n",
       "    }\n",
       "</style>\n",
       "<table border=\"1\" class=\"dataframe\">\n",
       "  <thead>\n",
       "    <tr style=\"text-align: right;\">\n",
       "      <th></th>\n",
       "      <th>task</th>\n",
       "      <th>id</th>\n",
       "      <th>description</th>\n",
       "      <th>timestamp</th>\n",
       "      <th>mins</th>\n",
       "      <th>done</th>\n",
       "    </tr>\n",
       "  </thead>\n",
       "  <tbody>\n",
       "    <tr>\n",
       "      <th>0</th>\n",
       "      <td>b</td>\n",
       "      <td>3</td>\n",
       "      <td>3</td>\n",
       "      <td>3</td>\n",
       "      <td>3</td>\n",
       "      <td>3</td>\n",
       "    </tr>\n",
       "    <tr>\n",
       "      <th>1</th>\n",
       "      <td>c</td>\n",
       "      <td>5</td>\n",
       "      <td>5</td>\n",
       "      <td>5</td>\n",
       "      <td>5</td>\n",
       "      <td>5</td>\n",
       "    </tr>\n",
       "    <tr>\n",
       "      <th>2</th>\n",
       "      <td>d</td>\n",
       "      <td>9</td>\n",
       "      <td>9</td>\n",
       "      <td>9</td>\n",
       "      <td>9</td>\n",
       "      <td>9</td>\n",
       "    </tr>\n",
       "    <tr>\n",
       "      <th>3</th>\n",
       "      <td>m</td>\n",
       "      <td>3</td>\n",
       "      <td>3</td>\n",
       "      <td>3</td>\n",
       "      <td>3</td>\n",
       "      <td>3</td>\n",
       "    </tr>\n",
       "    <tr>\n",
       "      <th>4</th>\n",
       "      <td>p</td>\n",
       "      <td>1</td>\n",
       "      <td>1</td>\n",
       "      <td>1</td>\n",
       "      <td>1</td>\n",
       "      <td>1</td>\n",
       "    </tr>\n",
       "    <tr>\n",
       "      <th>5</th>\n",
       "      <td>r</td>\n",
       "      <td>6</td>\n",
       "      <td>6</td>\n",
       "      <td>6</td>\n",
       "      <td>6</td>\n",
       "      <td>6</td>\n",
       "    </tr>\n",
       "  </tbody>\n",
       "</table>\n",
       "</div>"
      ],
      "text/plain": [
       "  task  id  description  timestamp  mins  done\n",
       "0    b   3            3          3     3     3\n",
       "1    c   5            5          5     5     5\n",
       "2    d   9            9          9     9     9\n",
       "3    m   3            3          3     3     3\n",
       "4    p   1            1          1     1     1\n",
       "5    r   6            6          6     6     6"
      ]
     },
     "execution_count": 50,
     "metadata": {},
     "output_type": "execute_result"
    }
   ],
   "source": [
    "df2.reset_index()"
   ]
  },
  {
   "cell_type": "code",
   "execution_count": 51,
   "metadata": {
    "ExecuteTime": {
     "end_time": "2018-11-16T01:32:21.469870Z",
     "start_time": "2018-11-16T01:32:21.467265Z"
    }
   },
   "outputs": [],
   "source": [
    "df2 = df2.iloc[:,0:1]"
   ]
  },
  {
   "cell_type": "code",
   "execution_count": 52,
   "metadata": {
    "ExecuteTime": {
     "end_time": "2018-11-16T01:32:23.786470Z",
     "start_time": "2018-11-16T01:32:23.780826Z"
    }
   },
   "outputs": [
    {
     "data": {
      "text/html": [
       "<div>\n",
       "<style scoped>\n",
       "    .dataframe tbody tr th:only-of-type {\n",
       "        vertical-align: middle;\n",
       "    }\n",
       "\n",
       "    .dataframe tbody tr th {\n",
       "        vertical-align: top;\n",
       "    }\n",
       "\n",
       "    .dataframe thead th {\n",
       "        text-align: right;\n",
       "    }\n",
       "</style>\n",
       "<table border=\"1\" class=\"dataframe\">\n",
       "  <thead>\n",
       "    <tr style=\"text-align: right;\">\n",
       "      <th></th>\n",
       "      <th>id</th>\n",
       "    </tr>\n",
       "    <tr>\n",
       "      <th>task</th>\n",
       "      <th></th>\n",
       "    </tr>\n",
       "  </thead>\n",
       "  <tbody>\n",
       "    <tr>\n",
       "      <th>b</th>\n",
       "      <td>3</td>\n",
       "    </tr>\n",
       "    <tr>\n",
       "      <th>c</th>\n",
       "      <td>5</td>\n",
       "    </tr>\n",
       "    <tr>\n",
       "      <th>d</th>\n",
       "      <td>9</td>\n",
       "    </tr>\n",
       "    <tr>\n",
       "      <th>m</th>\n",
       "      <td>3</td>\n",
       "    </tr>\n",
       "    <tr>\n",
       "      <th>p</th>\n",
       "      <td>1</td>\n",
       "    </tr>\n",
       "    <tr>\n",
       "      <th>r</th>\n",
       "      <td>6</td>\n",
       "    </tr>\n",
       "  </tbody>\n",
       "</table>\n",
       "</div>"
      ],
      "text/plain": [
       "      id\n",
       "task    \n",
       "b      3\n",
       "c      5\n",
       "d      9\n",
       "m      3\n",
       "p      1\n",
       "r      6"
      ]
     },
     "execution_count": 52,
     "metadata": {},
     "output_type": "execute_result"
    }
   ],
   "source": [
    "df2"
   ]
  },
  {
   "cell_type": "markdown",
   "metadata": {},
   "source": [
    "### What are the frequency of each task type per day?\n",
    "Aggregation can be performed on multiple columns as well. Hint: `pd.DatetimeIndex(df['timestamp']).date` will extract date from a timestamp."
   ]
  },
  {
   "cell_type": "code",
   "execution_count": 46,
   "metadata": {
    "ExecuteTime": {
     "end_time": "2018-11-16T01:29:28.787126Z",
     "start_time": "2018-11-16T01:29:28.782123Z"
    },
    "scrolled": true
   },
   "outputs": [
    {
     "data": {
      "text/plain": [
       "array([datetime.date(2018, 10, 12), datetime.date(2018, 10, 12),\n",
       "       datetime.date(2018, 10, 12), datetime.date(2018, 10, 12),\n",
       "       datetime.date(2018, 10, 12), datetime.date(2018, 10, 12),\n",
       "       datetime.date(2018, 10, 12), datetime.date(2018, 10, 12),\n",
       "       datetime.date(2018, 10, 12), datetime.date(2018, 10, 14),\n",
       "       datetime.date(2018, 10, 14), datetime.date(2018, 10, 15),\n",
       "       datetime.date(2018, 10, 15), datetime.date(2018, 10, 21),\n",
       "       datetime.date(2018, 10, 21), datetime.date(2018, 11, 3),\n",
       "       datetime.date(2018, 11, 3), datetime.date(2018, 11, 3),\n",
       "       datetime.date(2018, 11, 3), datetime.date(2018, 11, 3),\n",
       "       datetime.date(2018, 11, 3), datetime.date(2018, 11, 3),\n",
       "       datetime.date(2018, 11, 4), datetime.date(2018, 11, 4),\n",
       "       datetime.date(2018, 11, 4), datetime.date(2018, 11, 4),\n",
       "       datetime.date(2018, 11, 4)], dtype=object)"
      ]
     },
     "execution_count": 46,
     "metadata": {},
     "output_type": "execute_result"
    }
   ],
   "source": [
    "pd.DatetimeIndex(df['timestamp']).date"
   ]
  },
  {
   "cell_type": "code",
   "execution_count": 58,
   "metadata": {
    "ExecuteTime": {
     "end_time": "2018-11-16T01:40:59.492246Z",
     "start_time": "2018-11-16T01:40:59.488633Z"
    }
   },
   "outputs": [
    {
     "data": {
      "text/plain": [
       "Index(['id', 'task', 'description', 'timestamp', 'mins', 'done'], dtype='object')"
      ]
     },
     "execution_count": 58,
     "metadata": {},
     "output_type": "execute_result"
    }
   ],
   "source": [
    "df.columns"
   ]
  },
  {
   "cell_type": "code",
   "execution_count": 59,
   "metadata": {
    "ExecuteTime": {
     "end_time": "2018-11-16T01:41:15.145076Z",
     "start_time": "2018-11-16T01:41:15.141769Z"
    }
   },
   "outputs": [],
   "source": [
    "df.insert(0,'date',pd.DatetimeIndex(df['timestamp']).date)"
   ]
  },
  {
   "cell_type": "code",
   "execution_count": 61,
   "metadata": {
    "ExecuteTime": {
     "end_time": "2018-11-16T01:41:30.553494Z",
     "start_time": "2018-11-16T01:41:30.541830Z"
    }
   },
   "outputs": [
    {
     "data": {
      "text/html": [
       "<div>\n",
       "<style scoped>\n",
       "    .dataframe tbody tr th:only-of-type {\n",
       "        vertical-align: middle;\n",
       "    }\n",
       "\n",
       "    .dataframe tbody tr th {\n",
       "        vertical-align: top;\n",
       "    }\n",
       "\n",
       "    .dataframe thead th {\n",
       "        text-align: right;\n",
       "    }\n",
       "</style>\n",
       "<table border=\"1\" class=\"dataframe\">\n",
       "  <thead>\n",
       "    <tr style=\"text-align: right;\">\n",
       "      <th></th>\n",
       "      <th>date</th>\n",
       "      <th>id</th>\n",
       "      <th>task</th>\n",
       "      <th>description</th>\n",
       "      <th>timestamp</th>\n",
       "      <th>mins</th>\n",
       "      <th>done</th>\n",
       "    </tr>\n",
       "  </thead>\n",
       "  <tbody>\n",
       "    <tr>\n",
       "      <th>0</th>\n",
       "      <td>2018-10-12</td>\n",
       "      <td>1</td>\n",
       "      <td>b</td>\n",
       "      <td>#asyncio blog post completed</td>\n",
       "      <td>2018-10-12 23:00:56.864056</td>\n",
       "      <td>30</td>\n",
       "      <td>True</td>\n",
       "    </tr>\n",
       "    <tr>\n",
       "      <th>1</th>\n",
       "      <td>2018-10-12</td>\n",
       "      <td>2</td>\n",
       "      <td>b</td>\n",
       "      <td>#asyncio is really completicated</td>\n",
       "      <td>2018-10-12 23:01:21.875416</td>\n",
       "      <td>30</td>\n",
       "      <td>True</td>\n",
       "    </tr>\n",
       "    <tr>\n",
       "      <th>2</th>\n",
       "      <td>2018-10-12</td>\n",
       "      <td>3</td>\n",
       "      <td>b</td>\n",
       "      <td>#data_science is really completicated</td>\n",
       "      <td>2018-10-12 23:03:26.697286</td>\n",
       "      <td>30</td>\n",
       "      <td>True</td>\n",
       "    </tr>\n",
       "  </tbody>\n",
       "</table>\n",
       "</div>"
      ],
      "text/plain": [
       "         date  id task                            description  \\\n",
       "0  2018-10-12   1    b           #asyncio blog post completed   \n",
       "1  2018-10-12   2    b       #asyncio is really completicated   \n",
       "2  2018-10-12   3    b  #data_science is really completicated   \n",
       "\n",
       "                   timestamp  mins  done  \n",
       "0 2018-10-12 23:00:56.864056    30  True  \n",
       "1 2018-10-12 23:01:21.875416    30  True  \n",
       "2 2018-10-12 23:03:26.697286    30  True  "
      ]
     },
     "execution_count": 61,
     "metadata": {},
     "output_type": "execute_result"
    }
   ],
   "source": [
    "df.head(3)"
   ]
  },
  {
   "cell_type": "code",
   "execution_count": 62,
   "metadata": {
    "ExecuteTime": {
     "end_time": "2018-11-16T01:41:36.427375Z",
     "start_time": "2018-11-16T01:41:36.408624Z"
    }
   },
   "outputs": [
    {
     "data": {
      "text/html": [
       "<div>\n",
       "<style scoped>\n",
       "    .dataframe tbody tr th:only-of-type {\n",
       "        vertical-align: middle;\n",
       "    }\n",
       "\n",
       "    .dataframe tbody tr th {\n",
       "        vertical-align: top;\n",
       "    }\n",
       "\n",
       "    .dataframe thead th {\n",
       "        text-align: right;\n",
       "    }\n",
       "</style>\n",
       "<table border=\"1\" class=\"dataframe\">\n",
       "  <thead>\n",
       "    <tr style=\"text-align: right;\">\n",
       "      <th></th>\n",
       "      <th></th>\n",
       "      <th>id</th>\n",
       "      <th>description</th>\n",
       "      <th>timestamp</th>\n",
       "      <th>mins</th>\n",
       "      <th>done</th>\n",
       "    </tr>\n",
       "    <tr>\n",
       "      <th>task</th>\n",
       "      <th>date</th>\n",
       "      <th></th>\n",
       "      <th></th>\n",
       "      <th></th>\n",
       "      <th></th>\n",
       "      <th></th>\n",
       "    </tr>\n",
       "  </thead>\n",
       "  <tbody>\n",
       "    <tr>\n",
       "      <th>b</th>\n",
       "      <th>2018-10-12</th>\n",
       "      <td>3</td>\n",
       "      <td>3</td>\n",
       "      <td>3</td>\n",
       "      <td>3</td>\n",
       "      <td>3</td>\n",
       "    </tr>\n",
       "    <tr>\n",
       "      <th rowspan=\"3\" valign=\"top\">c</th>\n",
       "      <th>2018-10-12</th>\n",
       "      <td>1</td>\n",
       "      <td>1</td>\n",
       "      <td>1</td>\n",
       "      <td>1</td>\n",
       "      <td>1</td>\n",
       "    </tr>\n",
       "    <tr>\n",
       "      <th>2018-11-03</th>\n",
       "      <td>2</td>\n",
       "      <td>2</td>\n",
       "      <td>2</td>\n",
       "      <td>2</td>\n",
       "      <td>2</td>\n",
       "    </tr>\n",
       "    <tr>\n",
       "      <th>2018-11-04</th>\n",
       "      <td>2</td>\n",
       "      <td>2</td>\n",
       "      <td>2</td>\n",
       "      <td>2</td>\n",
       "      <td>2</td>\n",
       "    </tr>\n",
       "    <tr>\n",
       "      <th rowspan=\"6\" valign=\"top\">d</th>\n",
       "      <th>2018-10-12</th>\n",
       "      <td>1</td>\n",
       "      <td>1</td>\n",
       "      <td>1</td>\n",
       "      <td>1</td>\n",
       "      <td>1</td>\n",
       "    </tr>\n",
       "    <tr>\n",
       "      <th>2018-10-14</th>\n",
       "      <td>2</td>\n",
       "      <td>2</td>\n",
       "      <td>2</td>\n",
       "      <td>2</td>\n",
       "      <td>2</td>\n",
       "    </tr>\n",
       "    <tr>\n",
       "      <th>2018-10-15</th>\n",
       "      <td>2</td>\n",
       "      <td>2</td>\n",
       "      <td>2</td>\n",
       "      <td>2</td>\n",
       "      <td>2</td>\n",
       "    </tr>\n",
       "    <tr>\n",
       "      <th>2018-10-21</th>\n",
       "      <td>1</td>\n",
       "      <td>1</td>\n",
       "      <td>1</td>\n",
       "      <td>1</td>\n",
       "      <td>1</td>\n",
       "    </tr>\n",
       "    <tr>\n",
       "      <th>2018-11-03</th>\n",
       "      <td>1</td>\n",
       "      <td>1</td>\n",
       "      <td>1</td>\n",
       "      <td>1</td>\n",
       "      <td>1</td>\n",
       "    </tr>\n",
       "    <tr>\n",
       "      <th>2018-11-04</th>\n",
       "      <td>2</td>\n",
       "      <td>2</td>\n",
       "      <td>2</td>\n",
       "      <td>2</td>\n",
       "      <td>2</td>\n",
       "    </tr>\n",
       "    <tr>\n",
       "      <th rowspan=\"2\" valign=\"top\">m</th>\n",
       "      <th>2018-10-12</th>\n",
       "      <td>2</td>\n",
       "      <td>2</td>\n",
       "      <td>2</td>\n",
       "      <td>2</td>\n",
       "      <td>2</td>\n",
       "    </tr>\n",
       "    <tr>\n",
       "      <th>2018-11-04</th>\n",
       "      <td>1</td>\n",
       "      <td>1</td>\n",
       "      <td>1</td>\n",
       "      <td>1</td>\n",
       "      <td>1</td>\n",
       "    </tr>\n",
       "    <tr>\n",
       "      <th>p</th>\n",
       "      <th>2018-10-12</th>\n",
       "      <td>1</td>\n",
       "      <td>1</td>\n",
       "      <td>1</td>\n",
       "      <td>1</td>\n",
       "      <td>1</td>\n",
       "    </tr>\n",
       "    <tr>\n",
       "      <th rowspan=\"3\" valign=\"top\">r</th>\n",
       "      <th>2018-10-12</th>\n",
       "      <td>1</td>\n",
       "      <td>1</td>\n",
       "      <td>1</td>\n",
       "      <td>1</td>\n",
       "      <td>1</td>\n",
       "    </tr>\n",
       "    <tr>\n",
       "      <th>2018-10-21</th>\n",
       "      <td>1</td>\n",
       "      <td>1</td>\n",
       "      <td>1</td>\n",
       "      <td>1</td>\n",
       "      <td>1</td>\n",
       "    </tr>\n",
       "    <tr>\n",
       "      <th>2018-11-03</th>\n",
       "      <td>4</td>\n",
       "      <td>4</td>\n",
       "      <td>4</td>\n",
       "      <td>4</td>\n",
       "      <td>4</td>\n",
       "    </tr>\n",
       "  </tbody>\n",
       "</table>\n",
       "</div>"
      ],
      "text/plain": [
       "                 id  description  timestamp  mins  done\n",
       "task date                                              \n",
       "b    2018-10-12   3            3          3     3     3\n",
       "c    2018-10-12   1            1          1     1     1\n",
       "     2018-11-03   2            2          2     2     2\n",
       "     2018-11-04   2            2          2     2     2\n",
       "d    2018-10-12   1            1          1     1     1\n",
       "     2018-10-14   2            2          2     2     2\n",
       "     2018-10-15   2            2          2     2     2\n",
       "     2018-10-21   1            1          1     1     1\n",
       "     2018-11-03   1            1          1     1     1\n",
       "     2018-11-04   2            2          2     2     2\n",
       "m    2018-10-12   2            2          2     2     2\n",
       "     2018-11-04   1            1          1     1     1\n",
       "p    2018-10-12   1            1          1     1     1\n",
       "r    2018-10-12   1            1          1     1     1\n",
       "     2018-10-21   1            1          1     1     1\n",
       "     2018-11-03   4            4          4     4     4"
      ]
     },
     "execution_count": 62,
     "metadata": {},
     "output_type": "execute_result"
    }
   ],
   "source": [
    "df.groupby(['task','date']).count()"
   ]
  },
  {
   "cell_type": "markdown",
   "metadata": {},
   "source": [
    "### What are the amount of time spent per task type?\n",
    "You can use the `sum` function to add up the minutes and sort them in reverse order."
   ]
  },
  {
   "cell_type": "code",
   "execution_count": 69,
   "metadata": {
    "ExecuteTime": {
     "end_time": "2018-11-16T01:48:36.393313Z",
     "start_time": "2018-11-16T01:48:36.384861Z"
    }
   },
   "outputs": [
    {
     "data": {
      "text/html": [
       "<div>\n",
       "<style scoped>\n",
       "    .dataframe tbody tr th:only-of-type {\n",
       "        vertical-align: middle;\n",
       "    }\n",
       "\n",
       "    .dataframe tbody tr th {\n",
       "        vertical-align: top;\n",
       "    }\n",
       "\n",
       "    .dataframe thead th {\n",
       "        text-align: right;\n",
       "    }\n",
       "</style>\n",
       "<table border=\"1\" class=\"dataframe\">\n",
       "  <thead>\n",
       "    <tr style=\"text-align: right;\">\n",
       "      <th></th>\n",
       "      <th>mins</th>\n",
       "    </tr>\n",
       "    <tr>\n",
       "      <th>task</th>\n",
       "      <th></th>\n",
       "    </tr>\n",
       "  </thead>\n",
       "  <tbody>\n",
       "    <tr>\n",
       "      <th>b</th>\n",
       "      <td>90</td>\n",
       "    </tr>\n",
       "    <tr>\n",
       "      <th>c</th>\n",
       "      <td>110</td>\n",
       "    </tr>\n",
       "    <tr>\n",
       "      <th>d</th>\n",
       "      <td>195</td>\n",
       "    </tr>\n",
       "    <tr>\n",
       "      <th>m</th>\n",
       "      <td>80</td>\n",
       "    </tr>\n",
       "    <tr>\n",
       "      <th>p</th>\n",
       "      <td>30</td>\n",
       "    </tr>\n",
       "    <tr>\n",
       "      <th>r</th>\n",
       "      <td>105</td>\n",
       "    </tr>\n",
       "  </tbody>\n",
       "</table>\n",
       "</div>"
      ],
      "text/plain": [
       "      mins\n",
       "task      \n",
       "b       90\n",
       "c      110\n",
       "d      195\n",
       "m       80\n",
       "p       30\n",
       "r      105"
      ]
     },
     "execution_count": 69,
     "metadata": {},
     "output_type": "execute_result"
    }
   ],
   "source": [
    "df[['task','mins']].groupby(['task']).sum()"
   ]
  },
  {
   "cell_type": "code",
   "execution_count": 66,
   "metadata": {
    "ExecuteTime": {
     "end_time": "2018-11-16T01:46:59.422070Z",
     "start_time": "2018-11-16T01:46:59.410868Z"
    }
   },
   "outputs": [
    {
     "data": {
      "text/html": [
       "<div>\n",
       "<style scoped>\n",
       "    .dataframe tbody tr th:only-of-type {\n",
       "        vertical-align: middle;\n",
       "    }\n",
       "\n",
       "    .dataframe tbody tr th {\n",
       "        vertical-align: top;\n",
       "    }\n",
       "\n",
       "    .dataframe thead th {\n",
       "        text-align: right;\n",
       "    }\n",
       "</style>\n",
       "<table border=\"1\" class=\"dataframe\">\n",
       "  <thead>\n",
       "    <tr style=\"text-align: right;\">\n",
       "      <th></th>\n",
       "      <th>id</th>\n",
       "      <th>mins</th>\n",
       "      <th>done</th>\n",
       "    </tr>\n",
       "    <tr>\n",
       "      <th>task</th>\n",
       "      <th></th>\n",
       "      <th></th>\n",
       "      <th></th>\n",
       "    </tr>\n",
       "  </thead>\n",
       "  <tbody>\n",
       "    <tr>\n",
       "      <th>b</th>\n",
       "      <td>6</td>\n",
       "      <td>90</td>\n",
       "      <td>3.0</td>\n",
       "    </tr>\n",
       "    <tr>\n",
       "      <th>c</th>\n",
       "      <td>97</td>\n",
       "      <td>110</td>\n",
       "      <td>5.0</td>\n",
       "    </tr>\n",
       "    <tr>\n",
       "      <th>d</th>\n",
       "      <td>136</td>\n",
       "      <td>195</td>\n",
       "      <td>9.0</td>\n",
       "    </tr>\n",
       "    <tr>\n",
       "      <th>m</th>\n",
       "      <td>35</td>\n",
       "      <td>80</td>\n",
       "      <td>3.0</td>\n",
       "    </tr>\n",
       "    <tr>\n",
       "      <th>p</th>\n",
       "      <td>9</td>\n",
       "      <td>30</td>\n",
       "      <td>1.0</td>\n",
       "    </tr>\n",
       "    <tr>\n",
       "      <th>r</th>\n",
       "      <td>95</td>\n",
       "      <td>105</td>\n",
       "      <td>6.0</td>\n",
       "    </tr>\n",
       "  </tbody>\n",
       "</table>\n",
       "</div>"
      ],
      "text/plain": [
       "       id  mins  done\n",
       "task                 \n",
       "b       6    90   3.0\n",
       "c      97   110   5.0\n",
       "d     136   195   9.0\n",
       "m      35    80   3.0\n",
       "p       9    30   1.0\n",
       "r      95   105   6.0"
      ]
     },
     "execution_count": 66,
     "metadata": {},
     "output_type": "execute_result"
    }
   ],
   "source": [
    "df.groupby(['task']).sum()"
   ]
  },
  {
   "cell_type": "code",
   "execution_count": 80,
   "metadata": {
    "ExecuteTime": {
     "end_time": "2018-11-16T01:52:25.219988Z",
     "start_time": "2018-11-16T01:52:25.197550Z"
    }
   },
   "outputs": [
    {
     "data": {
      "text/html": [
       "<div>\n",
       "<style scoped>\n",
       "    .dataframe tbody tr th:only-of-type {\n",
       "        vertical-align: middle;\n",
       "    }\n",
       "\n",
       "    .dataframe tbody tr th {\n",
       "        vertical-align: top;\n",
       "    }\n",
       "\n",
       "    .dataframe thead th {\n",
       "        text-align: right;\n",
       "    }\n",
       "</style>\n",
       "<table border=\"1\" class=\"dataframe\">\n",
       "  <thead>\n",
       "    <tr style=\"text-align: right;\">\n",
       "      <th></th>\n",
       "      <th>date</th>\n",
       "      <th>id</th>\n",
       "      <th>task</th>\n",
       "      <th>description</th>\n",
       "      <th>timestamp</th>\n",
       "      <th>mins</th>\n",
       "      <th>done</th>\n",
       "    </tr>\n",
       "  </thead>\n",
       "  <tbody>\n",
       "    <tr>\n",
       "      <th>0</th>\n",
       "      <td>2018-10-12</td>\n",
       "      <td>1</td>\n",
       "      <td>b</td>\n",
       "      <td>#asyncio blog post completed</td>\n",
       "      <td>2018-10-12 23:00:56.864056</td>\n",
       "      <td>30</td>\n",
       "      <td>True</td>\n",
       "    </tr>\n",
       "    <tr>\n",
       "      <th>1</th>\n",
       "      <td>2018-10-12</td>\n",
       "      <td>2</td>\n",
       "      <td>b</td>\n",
       "      <td>#asyncio is really completicated</td>\n",
       "      <td>2018-10-12 23:01:21.875416</td>\n",
       "      <td>30</td>\n",
       "      <td>True</td>\n",
       "    </tr>\n",
       "    <tr>\n",
       "      <th>2</th>\n",
       "      <td>2018-10-12</td>\n",
       "      <td>3</td>\n",
       "      <td>b</td>\n",
       "      <td>#data_science is really completicated</td>\n",
       "      <td>2018-10-12 23:03:26.697286</td>\n",
       "      <td>30</td>\n",
       "      <td>True</td>\n",
       "    </tr>\n",
       "  </tbody>\n",
       "</table>\n",
       "</div>"
      ],
      "text/plain": [
       "         date  id task                            description  \\\n",
       "0  2018-10-12   1    b           #asyncio blog post completed   \n",
       "1  2018-10-12   2    b       #asyncio is really completicated   \n",
       "2  2018-10-12   3    b  #data_science is really completicated   \n",
       "\n",
       "                   timestamp  mins  done  \n",
       "0 2018-10-12 23:00:56.864056    30  True  \n",
       "1 2018-10-12 23:01:21.875416    30  True  \n",
       "2 2018-10-12 23:03:26.697286    30  True  "
      ]
     },
     "execution_count": 80,
     "metadata": {},
     "output_type": "execute_result"
    }
   ],
   "source": [
    "df.query('task==\"b\"')"
   ]
  },
  {
   "cell_type": "code",
   "execution_count": 132,
   "metadata": {
    "ExecuteTime": {
     "end_time": "2018-11-16T02:19:13.369137Z",
     "start_time": "2018-11-16T02:19:13.363213Z"
    }
   },
   "outputs": [
    {
     "data": {
      "text/plain": [
       "task\n",
       "d    195\n",
       "c    110\n",
       "r    105\n",
       "b     90\n",
       "m     80\n",
       "p     30\n",
       "Name: mins, dtype: int64"
      ]
     },
     "execution_count": 132,
     "metadata": {},
     "output_type": "execute_result"
    }
   ],
   "source": [
    "df.groupby('task')['mins'].sum().sort_values(ascending=False)"
   ]
  },
  {
   "cell_type": "markdown",
   "metadata": {},
   "source": [
    "## Hashtag analysis\n",
    "\n",
    "Hashtags are simple and easy way to put contextual information and in our data we find them in task descriptions. A task description might have no hashtag at all, a single hashtag or multiple hashtags. To start we need to parse the hashtags out from the description using regular expression. The following shows how multiple hastags are parsed out from a singe description.\n",
    "\n",
    "```python\n",
    "description = pd.Series(['#altair #pandas at project night'])\n",
    "description.str.findall(r'#.*?(?=\\s|$)').tolist()\n",
    "```\n"
   ]
  },
  {
   "cell_type": "code",
   "execution_count": 81,
   "metadata": {
    "ExecuteTime": {
     "end_time": "2018-11-16T01:55:24.601129Z",
     "start_time": "2018-11-16T01:55:24.598328Z"
    }
   },
   "outputs": [],
   "source": [
    "description = pd.Series(['#altair #pandas at project night'])"
   ]
  },
  {
   "cell_type": "code",
   "execution_count": 82,
   "metadata": {
    "ExecuteTime": {
     "end_time": "2018-11-16T01:55:37.960446Z",
     "start_time": "2018-11-16T01:55:37.949579Z"
    }
   },
   "outputs": [
    {
     "data": {
      "text/plain": [
       "[['#altair', '#pandas']]"
      ]
     },
     "execution_count": 82,
     "metadata": {},
     "output_type": "execute_result"
    }
   ],
   "source": [
    "description.str.findall(r'#.*?(?=\\s|$)').tolist()"
   ]
  },
  {
   "cell_type": "markdown",
   "metadata": {},
   "source": [
    "Note the result returned by running the above snippet is a list of lists. You probably want to flatten the list."
   ]
  },
  {
   "cell_type": "markdown",
   "metadata": {},
   "source": [
    "### Make a series of unique list of hashtags"
   ]
  },
  {
   "cell_type": "code",
   "execution_count": 88,
   "metadata": {
    "ExecuteTime": {
     "end_time": "2018-11-16T01:59:54.682463Z",
     "start_time": "2018-11-16T01:59:54.679940Z"
    }
   },
   "outputs": [],
   "source": [
    "example = pd.Series(['#air #michael #jordan #is #better #than #Lebron #is #better #better'])"
   ]
  },
  {
   "cell_type": "markdown",
   "metadata": {},
   "source": [
    "### What is the frequency of each hashtag?\n",
    "Hint: In the pandas documentation, take a look at examples under the apply function"
   ]
  },
  {
   "cell_type": "code",
   "execution_count": 99,
   "metadata": {
    "ExecuteTime": {
     "end_time": "2018-11-16T02:06:56.486768Z",
     "start_time": "2018-11-16T02:06:56.482825Z"
    }
   },
   "outputs": [
    {
     "data": {
      "text/plain": [
       "array([list(['#air', '#michael', '#jordan', '#is', '#better', '#than', '#Lebron', '#is', '#better', '#better'])],\n",
       "      dtype=object)"
      ]
     },
     "execution_count": 99,
     "metadata": {},
     "output_type": "execute_result"
    }
   ],
   "source": [
    "example.str.findall(r'#.*?(?=\\s|$)').values"
   ]
  },
  {
   "cell_type": "code",
   "execution_count": 103,
   "metadata": {
    "ExecuteTime": {
     "end_time": "2018-11-16T02:07:37.201328Z",
     "start_time": "2018-11-16T02:07:37.196698Z"
    }
   },
   "outputs": [
    {
     "data": {
      "text/plain": [
       "['#air',\n",
       " '#michael',\n",
       " '#jordan',\n",
       " '#is',\n",
       " '#better',\n",
       " '#than',\n",
       " '#Lebron',\n",
       " '#is',\n",
       " '#better',\n",
       " '#better']"
      ]
     },
     "execution_count": 103,
     "metadata": {},
     "output_type": "execute_result"
    }
   ],
   "source": [
    "example.str.findall(r'#.*?(?=\\s|$)').tolist()[0]"
   ]
  },
  {
   "cell_type": "code",
   "execution_count": 125,
   "metadata": {
    "ExecuteTime": {
     "end_time": "2018-11-16T02:16:16.428126Z",
     "start_time": "2018-11-16T02:16:16.420841Z"
    }
   },
   "outputs": [
    {
     "data": {
      "text/html": [
       "<div>\n",
       "<style scoped>\n",
       "    .dataframe tbody tr th:only-of-type {\n",
       "        vertical-align: middle;\n",
       "    }\n",
       "\n",
       "    .dataframe tbody tr th {\n",
       "        vertical-align: top;\n",
       "    }\n",
       "\n",
       "    .dataframe thead th {\n",
       "        text-align: right;\n",
       "    }\n",
       "</style>\n",
       "<table border=\"1\" class=\"dataframe\">\n",
       "  <thead>\n",
       "    <tr style=\"text-align: right;\">\n",
       "      <th></th>\n",
       "      <th>words</th>\n",
       "    </tr>\n",
       "  </thead>\n",
       "  <tbody>\n",
       "    <tr>\n",
       "      <th>0</th>\n",
       "      <td>#air</td>\n",
       "    </tr>\n",
       "    <tr>\n",
       "      <th>1</th>\n",
       "      <td>#michael</td>\n",
       "    </tr>\n",
       "    <tr>\n",
       "      <th>2</th>\n",
       "      <td>#jordan</td>\n",
       "    </tr>\n",
       "    <tr>\n",
       "      <th>3</th>\n",
       "      <td>#is</td>\n",
       "    </tr>\n",
       "    <tr>\n",
       "      <th>4</th>\n",
       "      <td>#better</td>\n",
       "    </tr>\n",
       "    <tr>\n",
       "      <th>5</th>\n",
       "      <td>#than</td>\n",
       "    </tr>\n",
       "    <tr>\n",
       "      <th>6</th>\n",
       "      <td>#Lebron</td>\n",
       "    </tr>\n",
       "    <tr>\n",
       "      <th>7</th>\n",
       "      <td>#is</td>\n",
       "    </tr>\n",
       "    <tr>\n",
       "      <th>8</th>\n",
       "      <td>#better</td>\n",
       "    </tr>\n",
       "    <tr>\n",
       "      <th>9</th>\n",
       "      <td>#better</td>\n",
       "    </tr>\n",
       "  </tbody>\n",
       "</table>\n",
       "</div>"
      ],
      "text/plain": [
       "      words\n",
       "0      #air\n",
       "1  #michael\n",
       "2   #jordan\n",
       "3       #is\n",
       "4   #better\n",
       "5     #than\n",
       "6   #Lebron\n",
       "7       #is\n",
       "8   #better\n",
       "9   #better"
      ]
     },
     "execution_count": 125,
     "metadata": {},
     "output_type": "execute_result"
    }
   ],
   "source": [
    "temp = pd.DataFrame(example.str.findall(r'#.*?(?=\\s|$)').tolist()[0],columns=['words'])\n",
    "temp"
   ]
  },
  {
   "cell_type": "code",
   "execution_count": 126,
   "metadata": {
    "ExecuteTime": {
     "end_time": "2018-11-16T02:16:40.689900Z",
     "start_time": "2018-11-16T02:16:40.686840Z"
    }
   },
   "outputs": [],
   "source": [
    "temp.insert(0,'counter',1)"
   ]
  },
  {
   "cell_type": "code",
   "execution_count": 127,
   "metadata": {
    "ExecuteTime": {
     "end_time": "2018-11-16T02:16:44.608417Z",
     "start_time": "2018-11-16T02:16:44.602131Z"
    }
   },
   "outputs": [
    {
     "data": {
      "text/html": [
       "<div>\n",
       "<style scoped>\n",
       "    .dataframe tbody tr th:only-of-type {\n",
       "        vertical-align: middle;\n",
       "    }\n",
       "\n",
       "    .dataframe tbody tr th {\n",
       "        vertical-align: top;\n",
       "    }\n",
       "\n",
       "    .dataframe thead th {\n",
       "        text-align: right;\n",
       "    }\n",
       "</style>\n",
       "<table border=\"1\" class=\"dataframe\">\n",
       "  <thead>\n",
       "    <tr style=\"text-align: right;\">\n",
       "      <th></th>\n",
       "      <th>counter</th>\n",
       "      <th>words</th>\n",
       "    </tr>\n",
       "  </thead>\n",
       "  <tbody>\n",
       "    <tr>\n",
       "      <th>0</th>\n",
       "      <td>1</td>\n",
       "      <td>#air</td>\n",
       "    </tr>\n",
       "    <tr>\n",
       "      <th>1</th>\n",
       "      <td>1</td>\n",
       "      <td>#michael</td>\n",
       "    </tr>\n",
       "    <tr>\n",
       "      <th>2</th>\n",
       "      <td>1</td>\n",
       "      <td>#jordan</td>\n",
       "    </tr>\n",
       "    <tr>\n",
       "      <th>3</th>\n",
       "      <td>1</td>\n",
       "      <td>#is</td>\n",
       "    </tr>\n",
       "    <tr>\n",
       "      <th>4</th>\n",
       "      <td>1</td>\n",
       "      <td>#better</td>\n",
       "    </tr>\n",
       "    <tr>\n",
       "      <th>5</th>\n",
       "      <td>1</td>\n",
       "      <td>#than</td>\n",
       "    </tr>\n",
       "    <tr>\n",
       "      <th>6</th>\n",
       "      <td>1</td>\n",
       "      <td>#Lebron</td>\n",
       "    </tr>\n",
       "    <tr>\n",
       "      <th>7</th>\n",
       "      <td>1</td>\n",
       "      <td>#is</td>\n",
       "    </tr>\n",
       "    <tr>\n",
       "      <th>8</th>\n",
       "      <td>1</td>\n",
       "      <td>#better</td>\n",
       "    </tr>\n",
       "    <tr>\n",
       "      <th>9</th>\n",
       "      <td>1</td>\n",
       "      <td>#better</td>\n",
       "    </tr>\n",
       "  </tbody>\n",
       "</table>\n",
       "</div>"
      ],
      "text/plain": [
       "   counter     words\n",
       "0        1      #air\n",
       "1        1  #michael\n",
       "2        1   #jordan\n",
       "3        1       #is\n",
       "4        1   #better\n",
       "5        1     #than\n",
       "6        1   #Lebron\n",
       "7        1       #is\n",
       "8        1   #better\n",
       "9        1   #better"
      ]
     },
     "execution_count": 127,
     "metadata": {},
     "output_type": "execute_result"
    }
   ],
   "source": [
    "temp"
   ]
  },
  {
   "cell_type": "code",
   "execution_count": 128,
   "metadata": {
    "ExecuteTime": {
     "end_time": "2018-11-16T02:16:49.998858Z",
     "start_time": "2018-11-16T02:16:49.990538Z"
    }
   },
   "outputs": [
    {
     "data": {
      "text/html": [
       "<div>\n",
       "<style scoped>\n",
       "    .dataframe tbody tr th:only-of-type {\n",
       "        vertical-align: middle;\n",
       "    }\n",
       "\n",
       "    .dataframe tbody tr th {\n",
       "        vertical-align: top;\n",
       "    }\n",
       "\n",
       "    .dataframe thead th {\n",
       "        text-align: right;\n",
       "    }\n",
       "</style>\n",
       "<table border=\"1\" class=\"dataframe\">\n",
       "  <thead>\n",
       "    <tr style=\"text-align: right;\">\n",
       "      <th></th>\n",
       "      <th>counter</th>\n",
       "    </tr>\n",
       "    <tr>\n",
       "      <th>words</th>\n",
       "      <th></th>\n",
       "    </tr>\n",
       "  </thead>\n",
       "  <tbody>\n",
       "    <tr>\n",
       "      <th>#Lebron</th>\n",
       "      <td>1</td>\n",
       "    </tr>\n",
       "    <tr>\n",
       "      <th>#air</th>\n",
       "      <td>1</td>\n",
       "    </tr>\n",
       "    <tr>\n",
       "      <th>#better</th>\n",
       "      <td>3</td>\n",
       "    </tr>\n",
       "    <tr>\n",
       "      <th>#is</th>\n",
       "      <td>2</td>\n",
       "    </tr>\n",
       "    <tr>\n",
       "      <th>#jordan</th>\n",
       "      <td>1</td>\n",
       "    </tr>\n",
       "    <tr>\n",
       "      <th>#michael</th>\n",
       "      <td>1</td>\n",
       "    </tr>\n",
       "    <tr>\n",
       "      <th>#than</th>\n",
       "      <td>1</td>\n",
       "    </tr>\n",
       "  </tbody>\n",
       "</table>\n",
       "</div>"
      ],
      "text/plain": [
       "          counter\n",
       "words            \n",
       "#Lebron         1\n",
       "#air            1\n",
       "#better         3\n",
       "#is             2\n",
       "#jordan         1\n",
       "#michael        1\n",
       "#than           1"
      ]
     },
     "execution_count": 128,
     "metadata": {},
     "output_type": "execute_result"
    }
   ],
   "source": [
    "temp.groupby(['words']).count()"
   ]
  },
  {
   "cell_type": "markdown",
   "metadata": {},
   "source": [
    "### Which hash tag consumes the most amount of time?\n",
    "This solution to this one is similar to the one above. Keep in mind that you need to handle the conditions where there are no hashtags in a description."
   ]
  },
  {
   "cell_type": "code",
   "execution_count": null,
   "metadata": {},
   "outputs": [],
   "source": []
  },
  {
   "cell_type": "markdown",
   "metadata": {},
   "source": [
    "## Plotting wih Altair\n",
    "\n",
    "Visualization is a powerful technique to find patterns in a dataset. It is also useful for communicate the findings of an analysis of a dataset. In the next section we will answer some simple questions about our dataset using visualization. While `matplotlib` is one of the most successful packages for the purpose, we will be using [`Altair`](https://altair-viz.github.io/) that provides a simple yet powerful declarative way of building charts.\n",
    "\n",
    "Think of it as SQL, but for charts."
   ]
  },
  {
   "cell_type": "code",
   "execution_count": 133,
   "metadata": {
    "ExecuteTime": {
     "end_time": "2018-11-16T02:25:56.091172Z",
     "start_time": "2018-11-16T02:25:55.764242Z"
    }
   },
   "outputs": [
    {
     "data": {
      "text/plain": [
       "RendererRegistry.enable('notebook')"
      ]
     },
     "execution_count": 133,
     "metadata": {},
     "output_type": "execute_result"
    }
   ],
   "source": [
    "import altair as alt\n",
    "alt.renderers.enable('notebook')"
   ]
  },
  {
   "cell_type": "markdown",
   "metadata": {},
   "source": [
    "We need to enable the renderer based on which environment we are using - `notebook` for jupyter notebooks, `jupterlab` for jupyterlab etc."
   ]
  },
  {
   "cell_type": "markdown",
   "metadata": {},
   "source": [
    "### What are the frequencies of each task type?\n",
    "\n",
    "Lets try to answer the same question we solved above, but this time using `altair`.\n",
    "\n",
    "Below is a `bar diagram` of our data. Lets break down what is going on in the function. From the official documentation:\n",
    "\n",
    "> The key to creating meaningful visualizations is to map properties of the data to visual properties in order to effectively communicate information. In Altair, this mapping of visual properties to data columns is referred to as\n",
    "> an encoding, and is most often expressed through the Chart.encode() method.\n",
    "\n",
    "Here are the 3 steps for building charts in altair\n",
    "\n",
    "- pass your data to alt.Chart\n",
    "```python\n",
    "alt.Chart(df)\n",
    "```\n",
    "- select the type of chart you want to plot\n",
    "```python    \n",
    "alt.Chart(df).mark_bar()\n",
    "```\n",
    "- `encode` map the property of the data to visual properties\n",
    "```python\n",
    "alt.Chart(df).mark_bar().encode(\n",
    "    y='task'      # map the y axis to df['task']\n",
    "    x='count()'   # map the x axis to aggregate function of count defined in altair\n",
    "    color='task') # map the color to df['task']\n",
    "```"
   ]
  },
  {
   "cell_type": "code",
   "execution_count": 15,
   "metadata": {},
   "outputs": [
    {
     "data": {
      "application/javascript": [
       "var spec = {\"config\": {\"view\": {\"width\": 400, \"height\": 300}}, \"data\": {\"name\": \"data-de0ed3cd9ddf6036ffea31331390ce1e\"}, \"mark\": \"bar\", \"encoding\": {\"color\": {\"type\": \"nominal\", \"field\": \"task\"}, \"x\": {\"type\": \"quantitative\", \"aggregate\": \"count\"}, \"y\": {\"type\": \"nominal\", \"field\": \"task\"}}, \"$schema\": \"https://vega.github.io/schema/vega-lite/v2.6.0.json\", \"datasets\": {\"data-de0ed3cd9ddf6036ffea31331390ce1e\": [{\"id\": 1, \"task\": \"b\", \"description\": \"#asyncio blog post completed\", \"timestamp\": \"2018-10-12T23:00:56.864056\", \"mins\": 30, \"done\": true}, {\"id\": 2, \"task\": \"b\", \"description\": \"#asyncio is really completicated\", \"timestamp\": \"2018-10-12T23:01:21.875416\", \"mins\": 30, \"done\": true}, {\"id\": 3, \"task\": \"b\", \"description\": \"#data_science is really completicated\", \"timestamp\": \"2018-10-12T23:03:26.697286\", \"mins\": 30, \"done\": true}, {\"id\": 4, \"task\": \"c\", \"description\": \"#asyncio completed stuff\", \"timestamp\": \"2018-10-12T23:07:19.131405\", \"mins\": 30, \"done\": true}, {\"id\": 5, \"task\": \"m\", \"description\": \"#asyncio ask some questions\", \"timestamp\": \"2018-10-12T23:08:09.363419\", \"mins\": 30, \"done\": true}, {\"id\": 6, \"task\": \"m\", \"description\": \"#asyncio got the answerss\", \"timestamp\": \"2018-10-12T23:08:20.690693\", \"mins\": 30, \"done\": true}, {\"id\": 7, \"task\": \"d\", \"description\": \"#asyncio got the answerss\", \"timestamp\": \"2018-10-12T23:08:37.566848\", \"mins\": 30, \"done\": true}, {\"id\": 8, \"task\": \"r\", \"description\": \"#asyncio looking into docs\", \"timestamp\": \"2018-10-12T23:08:56.649820\", \"mins\": 30, \"done\": true}, {\"id\": 9, \"task\": \"p\", \"description\": \"#asyncio coding in the stuff\", \"timestamp\": \"2018-10-12T23:10:12.633999\", \"mins\": 30, \"done\": true}, {\"id\": 10, \"task\": \"d\", \"description\": \"#jinja trying to figure app_context\", \"timestamp\": \"2018-10-14T09:07:52.702126\", \"mins\": 30, \"done\": true}, {\"id\": 11, \"task\": \"d\", \"description\": \"#bootstrap cards how to make cards cliackable\", \"timestamp\": \"2018-10-14T09:08:38.856013\", \"mins\": 30, \"done\": true}, {\"id\": 12, \"task\": \"d\", \"description\": \"#bootstrap figuring out how to integrate wtforms\", \"timestamp\": \"2018-10-15T19:05:23.955170\", \"mins\": 30, \"done\": true}, {\"id\": 13, \"task\": \"d\", \"description\": \"#bootstrap trying to get form alignment working\", \"timestamp\": \"2018-10-15T19:07:06.278395\", \"mins\": 5, \"done\": true}, {\"id\": 14, \"task\": \"d\", \"description\": \"#cft trying to figure how to add read replica\", \"timestamp\": \"2018-10-21T08:02:29.179643\", \"mins\": 20, \"done\": true}, {\"id\": 15, \"task\": \"r\", \"description\": \"#cft read through cloud formation docs to understand how to create read replica\", \"timestamp\": \"2018-10-21T09:08:42.564314\", \"mins\": 30, \"done\": true}, {\"id\": 16, \"task\": \"r\", \"description\": \"#pandas tutorial for timeseries analysis\", \"timestamp\": \"2018-11-03T09:59:59.886021\", \"mins\": 20, \"done\": true}, {\"id\": 17, \"task\": \"r\", \"description\": \"#pandas fixing matplotlib errors needed restarting jupyter kernel after pip install\", \"timestamp\": \"2018-11-03T10:07:50.354188\", \"mins\": 5, \"done\": true}, {\"id\": 18, \"task\": \"d\", \"description\": \"#pandas converting timestamp to datetime64\", \"timestamp\": \"2018-11-03T10:54:21.074068\", \"mins\": 10, \"done\": true}, {\"id\": 19, \"task\": \"r\", \"description\": \"timeseries data visualization with vega, vega-lite and altair\", \"timestamp\": \"2018-11-03T11:12:53.290185\", \"mins\": 10, \"done\": true}, {\"id\": 20, \"task\": \"r\", \"description\": \"#visualization\", \"timestamp\": \"2018-11-03T11:59:11.041432\", \"mins\": 10, \"done\": true}, {\"id\": 21, \"task\": \"c\", \"description\": \"#pandas which tasks take up most time\", \"timestamp\": \"2018-11-03T18:05:39.199989\", \"mins\": 20, \"done\": true}, {\"id\": 22, \"task\": \"c\", \"description\": \"#pandas #regular_expression which tasks take up most time\", \"timestamp\": \"2018-11-03T18:08:00.601788\", \"mins\": 20, \"done\": true}, {\"id\": 23, \"task\": \"c\", \"description\": \"#pandas apply function to a dataframe\", \"timestamp\": \"2018-11-04T05:39:13.803043\", \"mins\": 20, \"done\": true}, {\"id\": 24, \"task\": \"m\", \"description\": \"checking in with mentor\", \"timestamp\": \"2018-11-04T05:43:03.523862\", \"mins\": 20, \"done\": true}, {\"id\": 25, \"task\": \"d\", \"description\": \"stupid typo-ed a comma!\", \"timestamp\": \"2018-11-04T06:07:05.694163\", \"mins\": 20, \"done\": true}, {\"id\": 26, \"task\": \"d\", \"description\": \"#visualization trying to figure string type for altair\", \"timestamp\": \"2018-11-04T07:00:06.893573\", \"mins\": 20, \"done\": true}, {\"id\": 27, \"task\": \"c\", \"description\": \"#visualization barchart created\", \"timestamp\": \"2018-11-04T07:55:20.632394\", \"mins\": 20, \"done\": true}]}};\n",
       "var opt = {};\n",
       "var type = \"vega-lite\";\n",
       "var id = \"eb35b09b-2e39-460e-a11a-91f67671c901\";\n",
       "\n",
       "var output_area = this;\n",
       "\n",
       "require([\"nbextensions/jupyter-vega/index\"], function(vega) {\n",
       "  var target = document.createElement(\"div\");\n",
       "  target.id = id;\n",
       "  target.className = \"vega-embed\";\n",
       "\n",
       "  var style = document.createElement(\"style\");\n",
       "  style.textContent = [\n",
       "    \".vega-embed .error p {\",\n",
       "    \"  color: firebrick;\",\n",
       "    \"  font-size: 14px;\",\n",
       "    \"}\",\n",
       "  ].join(\"\\\\n\");\n",
       "\n",
       "  // element is a jQuery wrapped DOM element inside the output area\n",
       "  // see http://ipython.readthedocs.io/en/stable/api/generated/\\\n",
       "  // IPython.display.html#IPython.display.Javascript.__init__\n",
       "  element[0].appendChild(target);\n",
       "  element[0].appendChild(style);\n",
       "\n",
       "  vega.render(\"#\" + id, spec, type, opt, output_area);\n",
       "}, function (err) {\n",
       "  if (err.requireType !== \"scripterror\") {\n",
       "    throw(err);\n",
       "  }\n",
       "});\n"
      ],
      "text/plain": [
       "<vega.vegalite.VegaLite at 0x115255860>"
      ]
     },
     "metadata": {
      "jupyter-vega": "#eb35b09b-2e39-460e-a11a-91f67671c901"
     },
     "output_type": "display_data"
    },
    {
     "data": {
      "text/plain": []
     },
     "execution_count": 15,
     "metadata": {},
     "output_type": "execute_result"
    },
    {
     "data": {
      "image/png": "[encoded data removed]"
     },
     "metadata": {
      "jupyter-vega": "#eb35b09b-2e39-460e-a11a-91f67671c901"
     },
     "output_type": "display_data"
    },
    {
     "data": {
      "image/png": "[encoded data removed]"
     },
     "metadata": {
      "jupyter-vega": "#eb35b09b-2e39-460e-a11a-91f67671c901"
     },
     "output_type": "display_data"
    }
   ],
   "source": [
    "alt.Chart(df).mark_bar().encode(\n",
    "    y='task',\n",
    "    x='count()',\n",
    "    color='task'\n",
    ")"
   ]
  },
  {
   "cell_type": "markdown",
   "metadata": {},
   "source": [
    "You can choose different chart types by changing `mark_bar` to `mark_point`, `mark_square`, `mark_geoshape` etc. as applicable for your data. Full list is [here](https://altair-viz.github.io/user_guide/marks.html)"
   ]
  },
  {
   "cell_type": "markdown",
   "metadata": {},
   "source": [
    " ### What are the frequencies of each task type per day?"
   ]
  },
  {
   "cell_type": "code",
   "execution_count": null,
   "metadata": {},
   "outputs": [],
   "source": []
  },
  {
   "cell_type": "markdown",
   "metadata": {},
   "source": [
    "### How much time is spent per task type?"
   ]
  },
  {
   "cell_type": "code",
   "execution_count": null,
   "metadata": {},
   "outputs": [],
   "source": []
  },
  {
   "cell_type": "markdown",
   "metadata": {},
   "source": [
    "###   Align these charts"
   ]
  },
  {
   "cell_type": "markdown",
   "metadata": {},
   "source": [
    "Altair makes it easy to build compound charts by combining multiple charts. Arrange the charts above vertically and horizontally by taking a look at the docs."
   ]
  },
  {
   "cell_type": "code",
   "execution_count": null,
   "metadata": {},
   "outputs": [],
   "source": []
  },
  {
   "cell_type": "markdown",
   "metadata": {},
   "source": [
    "## Feedback"
   ]
  },
  {
   "cell_type": "markdown",
   "metadata": {},
   "source": [
    "Thanks for attending this project night. We put in a lot of effort to make this useful for you. However, we can not make it better, unless we hear back from you on what you want and collect data to make changes.\n",
    "\n",
    "Please take a few moments to fill in the [small form](https://docs.google.com/forms/d/e/1FAIpQLSePDQlWOibJrF7rI5KrYhzUSNfXp9GMP-6b-bjC8_qSFgYp-w/viewform?usp=pp_url&entry.813953991=https://bit.ly/data_trackcoder) and help us improve it."
   ]
  }
 ],
 "metadata": {
  "kernelspec": {
   "display_name": "Python 3",
   "language": "python",
   "name": "python3"
  },
  "language_info": {
   "codemirror_mode": {
    "name": "ipython",
    "version": 3
   },
   "file_extension": ".py",
   "mimetype": "text/x-python",
   "name": "python",
   "nbconvert_exporter": "python",
   "pygments_lexer": "ipython3",
   "version": "3.6.6"
  },
  "toc": {
   "base_numbering": 1,
   "nav_menu": {},
   "number_sections": true,
   "sideBar": true,
   "skip_h1_title": false,
   "title_cell": "Table of Contents",
   "title_sidebar": "Contents",
   "toc_cell": false,
   "toc_position": {
    "height": "626px",
    "left": "61px",
    "top": "135.117px",
    "width": "415px"
   },
   "toc_section_display": true,
   "toc_window_display": true
  }
 },
 "nbformat": 4,
 "nbformat_minor": 2
}
